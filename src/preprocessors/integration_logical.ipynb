{
 "cells": [
  {
   "cell_type": "code",
   "execution_count": 2,
   "metadata": {},
   "outputs": [],
   "source": [
    "# train, valid, test\n",
    "\n",
    "# 기존 데이터셋 하나씩 가져오기\n",
    "\n",
    "import os\n",
    "import pandas as pd\n",
    "\n",
    "# 경로\n",
    "pre_data_path = \"/workspace/home/uglee/Projects/title_extraction/datasets/pre_logical_datasets\"\n",
    "\n",
    "integrated_data_path = \"/workspace/home/uglee/Projects/title_extraction/datasets/integrated_pre_logical_datasets\"\n",
    "\n",
    "#lines = []\n",
    "\n",
    "integrated_data_file_path = os.path.join(integrated_data_path, \"integrated_data.tsv\")\n",
    "w = open(integrated_data_file_path, 'w')\n",
    "\n",
    "for idx, file_name in enumerate(os.listdir(pre_data_path)):\n",
    "    file_path = os.path.join(pre_data_path, file_name)\n",
    "\n",
    "    with open(file_path) as f:\n",
    "        line = f.readline()\n",
    "\n",
    "        line = line + '\\n'\n",
    "\n",
    "        w.write(line)\n",
    "\n",
    "w.close()"
   ]
  },
  {
   "cell_type": "code",
   "execution_count": 3,
   "metadata": {},
   "outputs": [
    {
     "data": {
      "text/html": [
       "<div>\n",
       "<style scoped>\n",
       "    .dataframe tbody tr th:only-of-type {\n",
       "        vertical-align: middle;\n",
       "    }\n",
       "\n",
       "    .dataframe tbody tr th {\n",
       "        vertical-align: top;\n",
       "    }\n",
       "\n",
       "    .dataframe thead th {\n",
       "        text-align: right;\n",
       "    }\n",
       "</style>\n",
       "<table border=\"1\" class=\"dataframe\">\n",
       "  <thead>\n",
       "    <tr style=\"text-align: right;\">\n",
       "      <th></th>\n",
       "      <th>용산구 미군부대 이전 후 한강로개발 판짜기 돌입</th>\n",
       "      <th>(서울=뉴스1) (이름) 기자 = 서울 용산구(구청장 성장현)가 미군부대 이전을 앞두고 한강로 일대 도시개발 밑그림 그리기에 본격적으로 착수했다.26일 용산구에 따르면 (주)대한콘설탄트 (주)디에이그룹과 체결한 용산지구단위계획 재정비수립 용역계약은 용역비만 7억 원에 달하는 대규모 프로젝트다.용산지구단위계획구역은 서울역부터 한강로를 따라 용산역과 한강대교 북단에 이르는 광대한 지역이다.해당 면적은 349만㎡로 용산구 전체면적(21.87㎢)의 16%, 용산공원주변지역(895만㎡)의 39%를 차지한다.역사적으로는 일제강점기 경부선 철도를 중심으로 군사 철도기지, 일본인거주지와 역전 부근 유곽이 모여 있던 곳이다.1987년 용산전자상가가 들어서며 (이름)과 함께 지역경제의 2대 축을 차지해 왔다.용산지구단위계획은 2001년 용산 부도심 육성을 목표로 처음 결정됐다.서울의 중심부에 위치한 이 지역이 활성화되면 용산 뿐만 아니라 서울역 광화문에 이르기까지 전면적인 개발 후광효과를 볼 수 있다는 판단에서였다.용산지구단위계획은 2010년 한 차례 변경 결정된 바 있으나 미군부대 이전이 구체화되는 등 사회 경제적 변화가 잇따랐다.용산역 주변 특별계획구역은 개발사업이 활발히 진행 중이지만 서측의 용산국제업무지구 특별계획구역은 2013년 이후 사업추진이 지지부진한 상태다.최근 국토교통부는 용산역 행복주택건설 계획을 발표하기도 했다.지역주민을 위한 육아돌봄센터 등 보육시설과 창업지원, 문화, 상가시설 등을 복합적으로 조성해 전자상가일대를 활성화시킨다는 것이다.용산구는 이러한 지역별 개발 여건을 파악해 초기 계획수립 단계부터 철저한 현지조사와 자료 분석을 벌일 계획이다.주민 참여를 통한 지역맞춤형 지구단위계획을 수립하고 그간 변경된 법 제도도 새롭게 반영한다.7월까지 조사분석을 끝내고 하반기에는 권역별 주민협의체를 구성해 기본구상안을 마련한다.이후 지구단위계획 열람공고와 소관 위원회 자문 심의 등 법적절차를 걸쳐 2017년 12월 용산지구단위계획 재정비 결정안을 확정할 예정이다.서계동일대 지구단위계획 수립도 진행 중이다.지난 2013년 관련 용역에 착수해 이르면 하반기에 계획이 결정된다.이 일대는 기반시설이 열악해 도로확장과 공영주차장 설치 등에 서울시의 재원투자가 필요하다는 게 용산구의 입장이다.4월에는 2008년 수립된 숙명여대주변지구단위계획도 변경 결정됐다.과도한 획지계획과 특별계획구역 1곳을 전면 해제하고 공동개발을 (이름)해 건축여건을 개선했다.보행환경 개선과 휴식공간을 위한 전면공지 계획도 추가했다.성장현 용산구청장은 “미군부대 이전에 발맞춰 용산이 제2의 도약을 시작했다”며 “철저한 계획과 대주민 소통을 통해 지역의 정체성을 보존하는 가운데 한강로 백만평 개발계획을 흔들림 없이 추진하고 용산을 대(이름)의 랜드마크로 만들어가겠다”고 말했다.&lt;저작권자 © 뉴스1코리아, 무단전재 및 재배포 금지&gt;</th>\n",
       "    </tr>\n",
       "  </thead>\n",
       "  <tbody>\n",
       "    <tr>\n",
       "      <th>0</th>\n",
       "      <td>마곡 중앙공원 공식명칭 서울식물원 결정</td>\n",
       "      <td>(서울=뉴스1) (이름) 기자 = 서울시는 서울의 마지막 남은 대규모 신개발지 마곡...</td>\n",
       "    </tr>\n",
       "    <tr>\n",
       "      <th>1</th>\n",
       "      <td>글로벌 경쟁하라며 안방서 홀대갈 길 먼 sw제값 주기</td>\n",
       "      <td>#sw업체 a사는 한 공공기관의 전산망 유지관리 사업을 7000만원에 수주했다.그러...</td>\n",
       "    </tr>\n",
       "    <tr>\n",
       "      <th>2</th>\n",
       "      <td>실패는 성공의 과정 재도전 기업 위한 실패사례 공모전</td>\n",
       "      <td>중소기업청은 경영 실패를 딛고 재도전에 나설 수 있는 기업인을 발굴하기 위해 '혁신...</td>\n",
       "    </tr>\n",
       "    <tr>\n",
       "      <th>3</th>\n",
       "      <td>美 시리아이라크내 헤즈볼라 군시설 공습이란 겨냥</td>\n",
       "      <td>(서울=뉴스1) (이름) 기자 = 미군이 이란의 지원을 받는 시아파 민병대 '카타이...</td>\n",
       "    </tr>\n",
       "    <tr>\n",
       "      <th>4</th>\n",
       "      <td>3세 아들 목졸라 살해한 30대女 국민참여재판 신청</td>\n",
       "      <td>= 시댁, 남편과의 불화를 (이름) 생후 28개월된 아들의 목을 졸라 숨지게 한 혐...</td>\n",
       "    </tr>\n",
       "  </tbody>\n",
       "</table>\n",
       "</div>"
      ],
      "text/plain": [
       "      용산구 미군부대 이전 후 한강로개발 판짜기 돌입  \\\n",
       "0          마곡 중앙공원 공식명칭 서울식물원 결정   \n",
       "1  글로벌 경쟁하라며 안방서 홀대갈 길 먼 sw제값 주기   \n",
       "2  실패는 성공의 과정 재도전 기업 위한 실패사례 공모전   \n",
       "3     美 시리아이라크내 헤즈볼라 군시설 공습이란 겨냥   \n",
       "4   3세 아들 목졸라 살해한 30대女 국민참여재판 신청   \n",
       "\n",
       "  (서울=뉴스1) (이름) 기자 = 서울 용산구(구청장 성장현)가 미군부대 이전을 앞두고 한강로 일대 도시개발 밑그림 그리기에 본격적으로 착수했다.26일 용산구에 따르면 (주)대한콘설탄트 (주)디에이그룹과 체결한 용산지구단위계획 재정비수립 용역계약은 용역비만 7억 원에 달하는 대규모 프로젝트다.용산지구단위계획구역은 서울역부터 한강로를 따라 용산역과 한강대교 북단에 이르는 광대한 지역이다.해당 면적은 349만㎡로 용산구 전체면적(21.87㎢)의 16%, 용산공원주변지역(895만㎡)의 39%를 차지한다.역사적으로는 일제강점기 경부선 철도를 중심으로 군사 철도기지, 일본인거주지와 역전 부근 유곽이 모여 있던 곳이다.1987년 용산전자상가가 들어서며 (이름)과 함께 지역경제의 2대 축을 차지해 왔다.용산지구단위계획은 2001년 용산 부도심 육성을 목표로 처음 결정됐다.서울의 중심부에 위치한 이 지역이 활성화되면 용산 뿐만 아니라 서울역 광화문에 이르기까지 전면적인 개발 후광효과를 볼 수 있다는 판단에서였다.용산지구단위계획은 2010년 한 차례 변경 결정된 바 있으나 미군부대 이전이 구체화되는 등 사회 경제적 변화가 잇따랐다.용산역 주변 특별계획구역은 개발사업이 활발히 진행 중이지만 서측의 용산국제업무지구 특별계획구역은 2013년 이후 사업추진이 지지부진한 상태다.최근 국토교통부는 용산역 행복주택건설 계획을 발표하기도 했다.지역주민을 위한 육아돌봄센터 등 보육시설과 창업지원, 문화, 상가시설 등을 복합적으로 조성해 전자상가일대를 활성화시킨다는 것이다.용산구는 이러한 지역별 개발 여건을 파악해 초기 계획수립 단계부터 철저한 현지조사와 자료 분석을 벌일 계획이다.주민 참여를 통한 지역맞춤형 지구단위계획을 수립하고 그간 변경된 법 제도도 새롭게 반영한다.7월까지 조사분석을 끝내고 하반기에는 권역별 주민협의체를 구성해 기본구상안을 마련한다.이후 지구단위계획 열람공고와 소관 위원회 자문 심의 등 법적절차를 걸쳐 2017년 12월 용산지구단위계획 재정비 결정안을 확정할 예정이다.서계동일대 지구단위계획 수립도 진행 중이다.지난 2013년 관련 용역에 착수해 이르면 하반기에 계획이 결정된다.이 일대는 기반시설이 열악해 도로확장과 공영주차장 설치 등에 서울시의 재원투자가 필요하다는 게 용산구의 입장이다.4월에는 2008년 수립된 숙명여대주변지구단위계획도 변경 결정됐다.과도한 획지계획과 특별계획구역 1곳을 전면 해제하고 공동개발을 (이름)해 건축여건을 개선했다.보행환경 개선과 휴식공간을 위한 전면공지 계획도 추가했다.성장현 용산구청장은 “미군부대 이전에 발맞춰 용산이 제2의 도약을 시작했다”며 “철저한 계획과 대주민 소통을 통해 지역의 정체성을 보존하는 가운데 한강로 백만평 개발계획을 흔들림 없이 추진하고 용산을 대(이름)의 랜드마크로 만들어가겠다”고 말했다.<저작권자 © 뉴스1코리아, 무단전재 및 재배포 금지>  \n",
       "0  (서울=뉴스1) (이름) 기자 = 서울시는 서울의 마지막 남은 대규모 신개발지 마곡...                                                                                                                                                                                                                                                                                                                                                                                                                                                                                                                                                                                                                                                                                                                                                                                                                                                                                                                                                                                                                                                                                                                                                                                                                                                                                                                                                                                                                     \n",
       "1  #sw업체 a사는 한 공공기관의 전산망 유지관리 사업을 7000만원에 수주했다.그러...                                                                                                                                                                                                                                                                                                                                                                                                                                                                                                                                                                                                                                                                                                                                                                                                                                                                                                                                                                                                                                                                                                                                                                                                                                                                                                                                                                                                                     \n",
       "2  중소기업청은 경영 실패를 딛고 재도전에 나설 수 있는 기업인을 발굴하기 위해 '혁신...                                                                                                                                                                                                                                                                                                                                                                                                                                                                                                                                                                                                                                                                                                                                                                                                                                                                                                                                                                                                                                                                                                                                                                                                                                                                                                                                                                                                                     \n",
       "3  (서울=뉴스1) (이름) 기자 = 미군이 이란의 지원을 받는 시아파 민병대 '카타이...                                                                                                                                                                                                                                                                                                                                                                                                                                                                                                                                                                                                                                                                                                                                                                                                                                                                                                                                                                                                                                                                                                                                                                                                                                                                                                                                                                                                                     \n",
       "4  = 시댁, 남편과의 불화를 (이름) 생후 28개월된 아들의 목을 졸라 숨지게 한 혐...                                                                                                                                                                                                                                                                                                                                                                                                                                                                                                                                                                                                                                                                                                                                                                                                                                                                                                                                                                                                                                                                                                                                                                                                                                                                                                                                                                                                                     "
      ]
     },
     "execution_count": 3,
     "metadata": {},
     "output_type": "execute_result"
    }
   ],
   "source": [
    "# integrated_data를 가져와서 train_data / valid_data / test_data로 나누기\n",
    "\n",
    "import pandas as pd\n",
    "\n",
    "df = pd.read_csv(os.path.join(integrated_data_path, \"integrated_data.tsv\"), sep='\\t', encoding='utf-8')\n",
    "\n",
    "df = df.sample(frac=1).reset_index(drop=True) \n",
    "\n",
    "df.head()"
   ]
  },
  {
   "cell_type": "code",
   "execution_count": 4,
   "metadata": {},
   "outputs": [],
   "source": [
    "df.columns = ['title', 'content']"
   ]
  },
  {
   "cell_type": "code",
   "execution_count": 5,
   "metadata": {},
   "outputs": [
    {
     "data": {
      "text/html": [
       "<div>\n",
       "<style scoped>\n",
       "    .dataframe tbody tr th:only-of-type {\n",
       "        vertical-align: middle;\n",
       "    }\n",
       "\n",
       "    .dataframe tbody tr th {\n",
       "        vertical-align: top;\n",
       "    }\n",
       "\n",
       "    .dataframe thead th {\n",
       "        text-align: right;\n",
       "    }\n",
       "</style>\n",
       "<table border=\"1\" class=\"dataframe\">\n",
       "  <thead>\n",
       "    <tr style=\"text-align: right;\">\n",
       "      <th></th>\n",
       "      <th>title</th>\n",
       "      <th>content</th>\n",
       "    </tr>\n",
       "  </thead>\n",
       "  <tbody>\n",
       "    <tr>\n",
       "      <th>0</th>\n",
       "      <td>마곡 중앙공원 공식명칭 서울식물원 결정</td>\n",
       "      <td>(서울=뉴스1) (이름) 기자 = 서울시는 서울의 마지막 남은 대규모 신개발지 마곡...</td>\n",
       "    </tr>\n",
       "    <tr>\n",
       "      <th>1</th>\n",
       "      <td>글로벌 경쟁하라며 안방서 홀대갈 길 먼 sw제값 주기</td>\n",
       "      <td>#sw업체 a사는 한 공공기관의 전산망 유지관리 사업을 7000만원에 수주했다.그러...</td>\n",
       "    </tr>\n",
       "    <tr>\n",
       "      <th>2</th>\n",
       "      <td>실패는 성공의 과정 재도전 기업 위한 실패사례 공모전</td>\n",
       "      <td>중소기업청은 경영 실패를 딛고 재도전에 나설 수 있는 기업인을 발굴하기 위해 '혁신...</td>\n",
       "    </tr>\n",
       "    <tr>\n",
       "      <th>3</th>\n",
       "      <td>美 시리아이라크내 헤즈볼라 군시설 공습이란 겨냥</td>\n",
       "      <td>(서울=뉴스1) (이름) 기자 = 미군이 이란의 지원을 받는 시아파 민병대 '카타이...</td>\n",
       "    </tr>\n",
       "    <tr>\n",
       "      <th>4</th>\n",
       "      <td>3세 아들 목졸라 살해한 30대女 국민참여재판 신청</td>\n",
       "      <td>= 시댁, 남편과의 불화를 (이름) 생후 28개월된 아들의 목을 졸라 숨지게 한 혐...</td>\n",
       "    </tr>\n",
       "  </tbody>\n",
       "</table>\n",
       "</div>"
      ],
      "text/plain": [
       "                           title  \\\n",
       "0          마곡 중앙공원 공식명칭 서울식물원 결정   \n",
       "1  글로벌 경쟁하라며 안방서 홀대갈 길 먼 sw제값 주기   \n",
       "2  실패는 성공의 과정 재도전 기업 위한 실패사례 공모전   \n",
       "3     美 시리아이라크내 헤즈볼라 군시설 공습이란 겨냥   \n",
       "4   3세 아들 목졸라 살해한 30대女 국민참여재판 신청   \n",
       "\n",
       "                                             content  \n",
       "0  (서울=뉴스1) (이름) 기자 = 서울시는 서울의 마지막 남은 대규모 신개발지 마곡...  \n",
       "1  #sw업체 a사는 한 공공기관의 전산망 유지관리 사업을 7000만원에 수주했다.그러...  \n",
       "2  중소기업청은 경영 실패를 딛고 재도전에 나설 수 있는 기업인을 발굴하기 위해 '혁신...  \n",
       "3  (서울=뉴스1) (이름) 기자 = 미군이 이란의 지원을 받는 시아파 민병대 '카타이...  \n",
       "4  = 시댁, 남편과의 불화를 (이름) 생후 28개월된 아들의 목을 졸라 숨지게 한 혐...  "
      ]
     },
     "execution_count": 5,
     "metadata": {},
     "output_type": "execute_result"
    }
   ],
   "source": [
    "df.head()"
   ]
  },
  {
   "cell_type": "code",
   "execution_count": 6,
   "metadata": {},
   "outputs": [],
   "source": [
    "df['title'] = df[\"title\"].str.replace(pat=r'[^\\w]', repl=r' ', regex=True)\n",
    "df['content'] = df[\"content\"].str.replace(pat=r'[^\\w]', repl=r' ', regex=True)"
   ]
  },
  {
   "cell_type": "code",
   "execution_count": 7,
   "metadata": {},
   "outputs": [
    {
     "data": {
      "text/html": [
       "<div>\n",
       "<style scoped>\n",
       "    .dataframe tbody tr th:only-of-type {\n",
       "        vertical-align: middle;\n",
       "    }\n",
       "\n",
       "    .dataframe tbody tr th {\n",
       "        vertical-align: top;\n",
       "    }\n",
       "\n",
       "    .dataframe thead th {\n",
       "        text-align: right;\n",
       "    }\n",
       "</style>\n",
       "<table border=\"1\" class=\"dataframe\">\n",
       "  <thead>\n",
       "    <tr style=\"text-align: right;\">\n",
       "      <th></th>\n",
       "      <th>title</th>\n",
       "      <th>content</th>\n",
       "    </tr>\n",
       "  </thead>\n",
       "  <tbody>\n",
       "    <tr>\n",
       "      <th>0</th>\n",
       "      <td>마곡 중앙공원 공식명칭 서울식물원 결정</td>\n",
       "      <td>서울 뉴스1   이름  기자   서울시는 서울의 마지막 남은 대규모 신개발지 마곡...</td>\n",
       "    </tr>\n",
       "    <tr>\n",
       "      <th>1</th>\n",
       "      <td>글로벌 경쟁하라며 안방서 홀대갈 길 먼 sw제값 주기</td>\n",
       "      <td>sw업체 a사는 한 공공기관의 전산망 유지관리 사업을 7000만원에 수주했다 그러...</td>\n",
       "    </tr>\n",
       "    <tr>\n",
       "      <th>2</th>\n",
       "      <td>실패는 성공의 과정 재도전 기업 위한 실패사례 공모전</td>\n",
       "      <td>중소기업청은 경영 실패를 딛고 재도전에 나설 수 있는 기업인을 발굴하기 위해  혁신...</td>\n",
       "    </tr>\n",
       "    <tr>\n",
       "      <th>3</th>\n",
       "      <td>美 시리아이라크내 헤즈볼라 군시설 공습이란 겨냥</td>\n",
       "      <td>서울 뉴스1   이름  기자   미군이 이란의 지원을 받는 시아파 민병대  카타이...</td>\n",
       "    </tr>\n",
       "    <tr>\n",
       "      <th>4</th>\n",
       "      <td>3세 아들 목졸라 살해한 30대女 국민참여재판 신청</td>\n",
       "      <td>시댁  남편과의 불화를  이름  생후 28개월된 아들의 목을 졸라 숨지게 한 혐...</td>\n",
       "    </tr>\n",
       "  </tbody>\n",
       "</table>\n",
       "</div>"
      ],
      "text/plain": [
       "                           title  \\\n",
       "0          마곡 중앙공원 공식명칭 서울식물원 결정   \n",
       "1  글로벌 경쟁하라며 안방서 홀대갈 길 먼 sw제값 주기   \n",
       "2  실패는 성공의 과정 재도전 기업 위한 실패사례 공모전   \n",
       "3     美 시리아이라크내 헤즈볼라 군시설 공습이란 겨냥   \n",
       "4   3세 아들 목졸라 살해한 30대女 국민참여재판 신청   \n",
       "\n",
       "                                             content  \n",
       "0   서울 뉴스1   이름  기자   서울시는 서울의 마지막 남은 대규모 신개발지 마곡...  \n",
       "1   sw업체 a사는 한 공공기관의 전산망 유지관리 사업을 7000만원에 수주했다 그러...  \n",
       "2  중소기업청은 경영 실패를 딛고 재도전에 나설 수 있는 기업인을 발굴하기 위해  혁신...  \n",
       "3   서울 뉴스1   이름  기자   미군이 이란의 지원을 받는 시아파 민병대  카타이...  \n",
       "4    시댁  남편과의 불화를  이름  생후 28개월된 아들의 목을 졸라 숨지게 한 혐...  "
      ]
     },
     "execution_count": 7,
     "metadata": {},
     "output_type": "execute_result"
    }
   ],
   "source": [
    "df.head(5)"
   ]
  },
  {
   "cell_type": "code",
   "execution_count": 8,
   "metadata": {},
   "outputs": [],
   "source": [
    "train_ratio = .7\n",
    "valid_ratio = .1\n",
    "test_ratio = .2\n",
    "\n",
    "train_data_num = int(df.shape[0] * train_ratio)\n",
    "valid_ratio_num = int(df.shape[0] * valid_ratio)\n",
    "test_ratio_num = int(df.shape[0] * test_ratio)\n"
   ]
  },
  {
   "cell_type": "code",
   "execution_count": 9,
   "metadata": {},
   "outputs": [],
   "source": [
    "train_df = df.iloc[:train_data_num, :]\n",
    "valid_df = df.iloc[train_data_num:train_data_num+valid_ratio_num, :]\n",
    "test_df = df.iloc[train_data_num+valid_ratio_num:, :]"
   ]
  },
  {
   "cell_type": "code",
   "execution_count": 10,
   "metadata": {},
   "outputs": [
    {
     "data": {
      "text/html": [
       "<div>\n",
       "<style scoped>\n",
       "    .dataframe tbody tr th:only-of-type {\n",
       "        vertical-align: middle;\n",
       "    }\n",
       "\n",
       "    .dataframe tbody tr th {\n",
       "        vertical-align: top;\n",
       "    }\n",
       "\n",
       "    .dataframe thead th {\n",
       "        text-align: right;\n",
       "    }\n",
       "</style>\n",
       "<table border=\"1\" class=\"dataframe\">\n",
       "  <thead>\n",
       "    <tr style=\"text-align: right;\">\n",
       "      <th></th>\n",
       "      <th>title</th>\n",
       "      <th>content</th>\n",
       "    </tr>\n",
       "  </thead>\n",
       "  <tbody>\n",
       "    <tr>\n",
       "      <th>0</th>\n",
       "      <td>마곡 중앙공원 공식명칭 서울식물원 결정</td>\n",
       "      <td>서울 뉴스1   이름  기자   서울시는 서울의 마지막 남은 대규모 신개발지 마곡...</td>\n",
       "    </tr>\n",
       "  </tbody>\n",
       "</table>\n",
       "</div>"
      ],
      "text/plain": [
       "                   title                                            content\n",
       "0  마곡 중앙공원 공식명칭 서울식물원 결정   서울 뉴스1   이름  기자   서울시는 서울의 마지막 남은 대규모 신개발지 마곡..."
      ]
     },
     "execution_count": 10,
     "metadata": {},
     "output_type": "execute_result"
    }
   ],
   "source": [
    "train_df.head(1)"
   ]
  },
  {
   "cell_type": "code",
   "execution_count": 11,
   "metadata": {},
   "outputs": [
    {
     "data": {
      "text/plain": [
       "(1329, 2)"
      ]
     },
     "execution_count": 11,
     "metadata": {},
     "output_type": "execute_result"
    }
   ],
   "source": [
    "train_df.shape"
   ]
  },
  {
   "cell_type": "code",
   "execution_count": 12,
   "metadata": {},
   "outputs": [
    {
     "data": {
      "text/plain": [
       "(189, 2)"
      ]
     },
     "execution_count": 12,
     "metadata": {},
     "output_type": "execute_result"
    }
   ],
   "source": [
    "valid_df.shape"
   ]
  },
  {
   "cell_type": "code",
   "execution_count": 13,
   "metadata": {},
   "outputs": [
    {
     "data": {
      "text/plain": [
       "(381, 2)"
      ]
     },
     "execution_count": 13,
     "metadata": {},
     "output_type": "execute_result"
    }
   ],
   "source": [
    "test_df.shape"
   ]
  },
  {
   "cell_type": "code",
   "execution_count": 14,
   "metadata": {},
   "outputs": [],
   "source": [
    "train_df = train_df.dropna()\n",
    "valid_df = valid_df.dropna()\n",
    "test_df = test_df.dropna()"
   ]
  },
  {
   "cell_type": "code",
   "execution_count": 15,
   "metadata": {},
   "outputs": [],
   "source": [
    "train_df.to_csv(\n",
    "    os.path.join(integrated_data_path, \"train_data.tsv\"), \n",
    "    sep= '\\t',\n",
    "    header=False,\n",
    "    index=False,\n",
    "    encoding='utf-8'\n",
    "    )\n",
    "    "
   ]
  },
  {
   "cell_type": "code",
   "execution_count": 16,
   "metadata": {},
   "outputs": [],
   "source": [
    "valid_df.to_csv(\n",
    "    os.path.join(integrated_data_path, \"valid_data.tsv\"), \n",
    "    sep= '\\t',\n",
    "    header=False,\n",
    "    index=False,\n",
    "    encoding='utf-8'\n",
    "    )"
   ]
  },
  {
   "cell_type": "code",
   "execution_count": 17,
   "metadata": {},
   "outputs": [],
   "source": [
    "test_df.to_csv(\n",
    "    os.path.join(integrated_data_path, \"test_data.tsv\"), \n",
    "    sep= '\\t',\n",
    "    header=False,\n",
    "    index=False,\n",
    "    encoding='utf-8'\n",
    "    )"
   ]
  },
  {
   "cell_type": "code",
   "execution_count": null,
   "metadata": {},
   "outputs": [],
   "source": []
  }
 ],
 "metadata": {
  "kernelspec": {
   "display_name": "Python 3",
   "language": "python",
   "name": "python3"
  },
  "language_info": {
   "codemirror_mode": {
    "name": "ipython",
    "version": 3
   },
   "file_extension": ".py",
   "mimetype": "text/x-python",
   "name": "python",
   "nbconvert_exporter": "python",
   "pygments_lexer": "ipython3",
   "version": "3.8.10"
  },
  "orig_nbformat": 4,
  "vscode": {
   "interpreter": {
    "hash": "31f2aee4e71d21fbe5cf8b01ff0e069b9275f58929596ceb00d14d90e3e16cd6"
   }
  }
 },
 "nbformat": 4,
 "nbformat_minor": 2
}

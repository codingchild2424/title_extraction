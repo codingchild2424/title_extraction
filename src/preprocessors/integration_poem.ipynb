{
 "cells": [
  {
   "cell_type": "code",
   "execution_count": 1,
   "metadata": {},
   "outputs": [],
   "source": [
    "# train, valid, test\n",
    "\n",
    "# 기존 데이터셋 하나씩 가져오기\n",
    "\n",
    "import os\n",
    "import pandas as pd\n",
    "\n",
    "# 경로\n",
    "pre_data_path = \"/workspace/home/uglee/Projects/title_extraction/datasets/pre_poem_datasets\"\n",
    "\n",
    "integrated_data_path = \"/workspace/home/uglee/Projects/title_extraction/datasets/integrated_pre_poem_datasets\"\n",
    "\n",
    "#lines = []\n",
    "\n",
    "integrated_data_file_path = os.path.join(integrated_data_path, \"integrated_data.tsv\")\n",
    "w = open(integrated_data_file_path, 'w')\n",
    "\n",
    "for idx, file_name in enumerate(os.listdir(pre_data_path)):\n",
    "    file_path = os.path.join(pre_data_path, file_name)\n",
    "\n",
    "    with open(file_path) as f:\n",
    "        line = f.readline()\n",
    "\n",
    "        line = line + '\\n'\n",
    "\n",
    "        w.write(line)\n",
    "\n",
    "w.close()"
   ]
  },
  {
   "cell_type": "code",
   "execution_count": 2,
   "metadata": {},
   "outputs": [
    {
     "data": {
      "text/html": [
       "<div>\n",
       "<style scoped>\n",
       "    .dataframe tbody tr th:only-of-type {\n",
       "        vertical-align: middle;\n",
       "    }\n",
       "\n",
       "    .dataframe tbody tr th {\n",
       "        vertical-align: top;\n",
       "    }\n",
       "\n",
       "    .dataframe thead th {\n",
       "        text-align: right;\n",
       "    }\n",
       "</style>\n",
       "<table border=\"1\" class=\"dataframe\">\n",
       "  <thead>\n",
       "    <tr style=\"text-align: right;\">\n",
       "      <th></th>\n",
       "      <th>교장선생님께</th>\n",
       "      <th>더 이상은 못 버티겠습니다 사표 쓰겠습니다  이제껏 꿈 속에서 헤매이며 가졌던 꿈들을 소실한 채   더 이상은 못 버티겠습니다 여기서 나가겠습니다  사회가 짜 놓은 거미줄에 두 다리를 잃고 방황한 채  더 이상 못 버티겠습니다 어서 탈출하겠습니다  공부가 나에게 주는 의미가 뭔지 알지도 못하고 배우지도 못한 채  더 이상 못 버티겠습니다 어서  일탈하겠습니다</th>\n",
       "    </tr>\n",
       "  </thead>\n",
       "  <tbody>\n",
       "    <tr>\n",
       "      <th>0</th>\n",
       "      <td>육신</td>\n",
       "      <td>설겆이을 마친 어머니의 손이 물러터졌다. 어머니, 손에 무슨 변고라도 났답니...</td>\n",
       "    </tr>\n",
       "    <tr>\n",
       "      <th>1</th>\n",
       "      <td>눈꺼풀</td>\n",
       "      <td>눈꺼풀동녘 하늘에서 밝아오는 푸른빛이 이불을 뒤집어쓴 채 고적하게 웅크린 몸을 ...</td>\n",
       "    </tr>\n",
       "    <tr>\n",
       "      <th>2</th>\n",
       "      <td>사랑니</td>\n",
       "      <td>봉긋 솟은 붉은 가슴 속에서흰 우윳빛 젖내음에 젖은 날갯짓발버둥을 치잖아 글쎄...</td>\n",
       "    </tr>\n",
       "    <tr>\n",
       "      <th>3</th>\n",
       "      <td>로보트</td>\n",
       "      <td>로보트 로보트의 외출녹슨 베어링 관절 어뜩어뜩 걸어오는 슬픔(로봇들은 진화하고 ...</td>\n",
       "    </tr>\n",
       "    <tr>\n",
       "      <th>4</th>\n",
       "      <td>맹수에게 배울 것</td>\n",
       "      <td>창공을 나는 독수리는 하강을 걱정하지 않는다.  이빨에 강력한 독을 가진 코브라...</td>\n",
       "    </tr>\n",
       "  </tbody>\n",
       "</table>\n",
       "</div>"
      ],
      "text/plain": [
       "      교장선생님께  \\\n",
       "0         육신   \n",
       "1        눈꺼풀   \n",
       "2        사랑니   \n",
       "3        로보트   \n",
       "4  맹수에게 배울 것   \n",
       "\n",
       "    더 이상은 못 버티겠습니다 사표 쓰겠습니다  이제껏 꿈 속에서 헤매이며 가졌던 꿈들을 소실한 채   더 이상은 못 버티겠습니다 여기서 나가겠습니다  사회가 짜 놓은 거미줄에 두 다리를 잃고 방황한 채  더 이상 못 버티겠습니다 어서 탈출하겠습니다  공부가 나에게 주는 의미가 뭔지 알지도 못하고 배우지도 못한 채  더 이상 못 버티겠습니다 어서  일탈하겠습니다   \n",
       "0      설겆이을 마친 어머니의 손이 물러터졌다. 어머니, 손에 무슨 변고라도 났답니...                                                                                                                                                            \n",
       "1    눈꺼풀동녘 하늘에서 밝아오는 푸른빛이 이불을 뒤집어쓴 채 고적하게 웅크린 몸을 ...                                                                                                                                                            \n",
       "2     봉긋 솟은 붉은 가슴 속에서흰 우윳빛 젖내음에 젖은 날갯짓발버둥을 치잖아 글쎄...                                                                                                                                                            \n",
       "3    로보트 로보트의 외출녹슨 베어링 관절 어뜩어뜩 걸어오는 슬픔(로봇들은 진화하고 ...                                                                                                                                                            \n",
       "4    창공을 나는 독수리는 하강을 걱정하지 않는다.  이빨에 강력한 독을 가진 코브라...                                                                                                                                                            "
      ]
     },
     "execution_count": 2,
     "metadata": {},
     "output_type": "execute_result"
    }
   ],
   "source": [
    "# integrated_data를 가져와서 train_data / valid_data / test_data로 나누기\n",
    "\n",
    "import pandas as pd\n",
    "\n",
    "df = pd.read_csv(os.path.join(integrated_data_path, \"integrated_data.tsv\"), sep='\\t', encoding='utf-8')\n",
    "\n",
    "df = df.sample(frac=1).reset_index(drop=True) \n",
    "\n",
    "df.head()"
   ]
  },
  {
   "cell_type": "code",
   "execution_count": 3,
   "metadata": {},
   "outputs": [],
   "source": [
    "df.columns = ['title', 'content']"
   ]
  },
  {
   "cell_type": "code",
   "execution_count": 4,
   "metadata": {},
   "outputs": [
    {
     "data": {
      "text/html": [
       "<div>\n",
       "<style scoped>\n",
       "    .dataframe tbody tr th:only-of-type {\n",
       "        vertical-align: middle;\n",
       "    }\n",
       "\n",
       "    .dataframe tbody tr th {\n",
       "        vertical-align: top;\n",
       "    }\n",
       "\n",
       "    .dataframe thead th {\n",
       "        text-align: right;\n",
       "    }\n",
       "</style>\n",
       "<table border=\"1\" class=\"dataframe\">\n",
       "  <thead>\n",
       "    <tr style=\"text-align: right;\">\n",
       "      <th></th>\n",
       "      <th>title</th>\n",
       "      <th>content</th>\n",
       "    </tr>\n",
       "  </thead>\n",
       "  <tbody>\n",
       "    <tr>\n",
       "      <th>0</th>\n",
       "      <td>육신</td>\n",
       "      <td>설겆이을 마친 어머니의 손이 물러터졌다. 어머니, 손에 무슨 변고라도 났답니...</td>\n",
       "    </tr>\n",
       "    <tr>\n",
       "      <th>1</th>\n",
       "      <td>눈꺼풀</td>\n",
       "      <td>눈꺼풀동녘 하늘에서 밝아오는 푸른빛이 이불을 뒤집어쓴 채 고적하게 웅크린 몸을 ...</td>\n",
       "    </tr>\n",
       "    <tr>\n",
       "      <th>2</th>\n",
       "      <td>사랑니</td>\n",
       "      <td>봉긋 솟은 붉은 가슴 속에서흰 우윳빛 젖내음에 젖은 날갯짓발버둥을 치잖아 글쎄...</td>\n",
       "    </tr>\n",
       "    <tr>\n",
       "      <th>3</th>\n",
       "      <td>로보트</td>\n",
       "      <td>로보트 로보트의 외출녹슨 베어링 관절 어뜩어뜩 걸어오는 슬픔(로봇들은 진화하고 ...</td>\n",
       "    </tr>\n",
       "    <tr>\n",
       "      <th>4</th>\n",
       "      <td>맹수에게 배울 것</td>\n",
       "      <td>창공을 나는 독수리는 하강을 걱정하지 않는다.  이빨에 강력한 독을 가진 코브라...</td>\n",
       "    </tr>\n",
       "  </tbody>\n",
       "</table>\n",
       "</div>"
      ],
      "text/plain": [
       "       title                                            content\n",
       "0         육신      설겆이을 마친 어머니의 손이 물러터졌다. 어머니, 손에 무슨 변고라도 났답니...\n",
       "1        눈꺼풀    눈꺼풀동녘 하늘에서 밝아오는 푸른빛이 이불을 뒤집어쓴 채 고적하게 웅크린 몸을 ...\n",
       "2        사랑니     봉긋 솟은 붉은 가슴 속에서흰 우윳빛 젖내음에 젖은 날갯짓발버둥을 치잖아 글쎄...\n",
       "3        로보트    로보트 로보트의 외출녹슨 베어링 관절 어뜩어뜩 걸어오는 슬픔(로봇들은 진화하고 ...\n",
       "4  맹수에게 배울 것    창공을 나는 독수리는 하강을 걱정하지 않는다.  이빨에 강력한 독을 가진 코브라..."
      ]
     },
     "execution_count": 4,
     "metadata": {},
     "output_type": "execute_result"
    }
   ],
   "source": [
    "df.head()"
   ]
  },
  {
   "cell_type": "code",
   "execution_count": 5,
   "metadata": {},
   "outputs": [],
   "source": [
    "df['title'] = df[\"title\"].str.replace(pat=r'[^\\w]', repl=r' ', regex=True)\n",
    "df['content'] = df[\"content\"].str.replace(pat=r'[^\\w]', repl=r' ', regex=True)"
   ]
  },
  {
   "cell_type": "code",
   "execution_count": 6,
   "metadata": {},
   "outputs": [
    {
     "data": {
      "text/html": [
       "<div>\n",
       "<style scoped>\n",
       "    .dataframe tbody tr th:only-of-type {\n",
       "        vertical-align: middle;\n",
       "    }\n",
       "\n",
       "    .dataframe tbody tr th {\n",
       "        vertical-align: top;\n",
       "    }\n",
       "\n",
       "    .dataframe thead th {\n",
       "        text-align: right;\n",
       "    }\n",
       "</style>\n",
       "<table border=\"1\" class=\"dataframe\">\n",
       "  <thead>\n",
       "    <tr style=\"text-align: right;\">\n",
       "      <th></th>\n",
       "      <th>title</th>\n",
       "      <th>content</th>\n",
       "    </tr>\n",
       "  </thead>\n",
       "  <tbody>\n",
       "    <tr>\n",
       "      <th>0</th>\n",
       "      <td>육신</td>\n",
       "      <td>설겆이을 마친 어머니의 손이 물러터졌다  어머니  손에 무슨 변고라도 났답니...</td>\n",
       "    </tr>\n",
       "    <tr>\n",
       "      <th>1</th>\n",
       "      <td>눈꺼풀</td>\n",
       "      <td>눈꺼풀동녘 하늘에서 밝아오는 푸른빛이 이불을 뒤집어쓴 채 고적하게 웅크린 몸을 ...</td>\n",
       "    </tr>\n",
       "    <tr>\n",
       "      <th>2</th>\n",
       "      <td>사랑니</td>\n",
       "      <td>봉긋 솟은 붉은 가슴 속에서흰 우윳빛 젖내음에 젖은 날갯짓발버둥을 치잖아 글쎄...</td>\n",
       "    </tr>\n",
       "    <tr>\n",
       "      <th>3</th>\n",
       "      <td>로보트</td>\n",
       "      <td>로보트 로보트의 외출녹슨 베어링 관절 어뜩어뜩 걸어오는 슬픔 로봇들은 진화하고 ...</td>\n",
       "    </tr>\n",
       "    <tr>\n",
       "      <th>4</th>\n",
       "      <td>맹수에게 배울 것</td>\n",
       "      <td>창공을 나는 독수리는 하강을 걱정하지 않는다   이빨에 강력한 독을 가진 코브라...</td>\n",
       "    </tr>\n",
       "  </tbody>\n",
       "</table>\n",
       "</div>"
      ],
      "text/plain": [
       "       title                                            content\n",
       "0         육신      설겆이을 마친 어머니의 손이 물러터졌다  어머니  손에 무슨 변고라도 났답니...\n",
       "1        눈꺼풀    눈꺼풀동녘 하늘에서 밝아오는 푸른빛이 이불을 뒤집어쓴 채 고적하게 웅크린 몸을 ...\n",
       "2        사랑니     봉긋 솟은 붉은 가슴 속에서흰 우윳빛 젖내음에 젖은 날갯짓발버둥을 치잖아 글쎄...\n",
       "3        로보트    로보트 로보트의 외출녹슨 베어링 관절 어뜩어뜩 걸어오는 슬픔 로봇들은 진화하고 ...\n",
       "4  맹수에게 배울 것    창공을 나는 독수리는 하강을 걱정하지 않는다   이빨에 강력한 독을 가진 코브라..."
      ]
     },
     "execution_count": 6,
     "metadata": {},
     "output_type": "execute_result"
    }
   ],
   "source": [
    "df.head(5)"
   ]
  },
  {
   "cell_type": "code",
   "execution_count": 7,
   "metadata": {},
   "outputs": [],
   "source": [
    "train_ratio = .7\n",
    "valid_ratio = .1\n",
    "test_ratio = .2\n",
    "\n",
    "train_data_num = int(df.shape[0] * train_ratio)\n",
    "valid_ratio_num = int(df.shape[0] * valid_ratio)\n",
    "test_ratio_num = int(df.shape[0] * test_ratio)\n"
   ]
  },
  {
   "cell_type": "code",
   "execution_count": 8,
   "metadata": {},
   "outputs": [],
   "source": [
    "train_df = df.iloc[:train_data_num, :]\n",
    "valid_df = df.iloc[train_data_num:train_data_num+valid_ratio_num, :]\n",
    "test_df = df.iloc[train_data_num+valid_ratio_num:, :]"
   ]
  },
  {
   "cell_type": "code",
   "execution_count": 9,
   "metadata": {},
   "outputs": [
    {
     "data": {
      "text/html": [
       "<div>\n",
       "<style scoped>\n",
       "    .dataframe tbody tr th:only-of-type {\n",
       "        vertical-align: middle;\n",
       "    }\n",
       "\n",
       "    .dataframe tbody tr th {\n",
       "        vertical-align: top;\n",
       "    }\n",
       "\n",
       "    .dataframe thead th {\n",
       "        text-align: right;\n",
       "    }\n",
       "</style>\n",
       "<table border=\"1\" class=\"dataframe\">\n",
       "  <thead>\n",
       "    <tr style=\"text-align: right;\">\n",
       "      <th></th>\n",
       "      <th>title</th>\n",
       "      <th>content</th>\n",
       "    </tr>\n",
       "  </thead>\n",
       "  <tbody>\n",
       "    <tr>\n",
       "      <th>0</th>\n",
       "      <td>육신</td>\n",
       "      <td>설겆이을 마친 어머니의 손이 물러터졌다  어머니  손에 무슨 변고라도 났답니...</td>\n",
       "    </tr>\n",
       "  </tbody>\n",
       "</table>\n",
       "</div>"
      ],
      "text/plain": [
       "  title                                            content\n",
       "0    육신      설겆이을 마친 어머니의 손이 물러터졌다  어머니  손에 무슨 변고라도 났답니..."
      ]
     },
     "execution_count": 9,
     "metadata": {},
     "output_type": "execute_result"
    }
   ],
   "source": [
    "train_df.head(1)"
   ]
  },
  {
   "cell_type": "code",
   "execution_count": 10,
   "metadata": {},
   "outputs": [
    {
     "data": {
      "text/plain": [
       "(15817, 2)"
      ]
     },
     "execution_count": 10,
     "metadata": {},
     "output_type": "execute_result"
    }
   ],
   "source": [
    "train_df.shape"
   ]
  },
  {
   "cell_type": "code",
   "execution_count": 11,
   "metadata": {},
   "outputs": [
    {
     "data": {
      "text/plain": [
       "(2259, 2)"
      ]
     },
     "execution_count": 11,
     "metadata": {},
     "output_type": "execute_result"
    }
   ],
   "source": [
    "valid_df.shape"
   ]
  },
  {
   "cell_type": "code",
   "execution_count": 12,
   "metadata": {},
   "outputs": [
    {
     "data": {
      "text/plain": [
       "(4520, 2)"
      ]
     },
     "execution_count": 12,
     "metadata": {},
     "output_type": "execute_result"
    }
   ],
   "source": [
    "test_df.shape"
   ]
  },
  {
   "cell_type": "code",
   "execution_count": 13,
   "metadata": {},
   "outputs": [],
   "source": [
    "train_df = train_df.dropna()\n",
    "valid_df = valid_df.dropna()\n",
    "test_df = test_df.dropna()"
   ]
  },
  {
   "cell_type": "code",
   "execution_count": 14,
   "metadata": {},
   "outputs": [],
   "source": [
    "train_df.to_csv(\n",
    "    os.path.join(integrated_data_path, \"train_data.tsv\"), \n",
    "    sep= '\\t',\n",
    "    header=False,\n",
    "    index=False,\n",
    "    encoding='utf-8'\n",
    "    )\n",
    "    "
   ]
  },
  {
   "cell_type": "code",
   "execution_count": 15,
   "metadata": {},
   "outputs": [],
   "source": [
    "valid_df.to_csv(\n",
    "    os.path.join(integrated_data_path, \"valid_data.tsv\"), \n",
    "    sep= '\\t',\n",
    "    header=False,\n",
    "    index=False,\n",
    "    encoding='utf-8'\n",
    "    )"
   ]
  },
  {
   "cell_type": "code",
   "execution_count": 16,
   "metadata": {},
   "outputs": [],
   "source": [
    "test_df.to_csv(\n",
    "    os.path.join(integrated_data_path, \"test_data.tsv\"), \n",
    "    sep= '\\t',\n",
    "    header=False,\n",
    "    index=False,\n",
    "    encoding='utf-8'\n",
    "    )"
   ]
  },
  {
   "cell_type": "code",
   "execution_count": null,
   "metadata": {},
   "outputs": [],
   "source": []
  }
 ],
 "metadata": {
  "kernelspec": {
   "display_name": "Python 3",
   "language": "python",
   "name": "python3"
  },
  "language_info": {
   "codemirror_mode": {
    "name": "ipython",
    "version": 3
   },
   "file_extension": ".py",
   "mimetype": "text/x-python",
   "name": "python",
   "nbconvert_exporter": "python",
   "pygments_lexer": "ipython3",
   "version": "3.8.10"
  },
  "orig_nbformat": 4,
  "vscode": {
   "interpreter": {
    "hash": "31f2aee4e71d21fbe5cf8b01ff0e069b9275f58929596ceb00d14d90e3e16cd6"
   }
  }
 },
 "nbformat": 4,
 "nbformat_minor": 2
}

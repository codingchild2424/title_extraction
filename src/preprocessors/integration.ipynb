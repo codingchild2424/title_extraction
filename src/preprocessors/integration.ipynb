{
 "cells": [
  {
   "cell_type": "code",
   "execution_count": 1,
   "metadata": {},
   "outputs": [],
   "source": [
    "# train, valid, test\n",
    "\n",
    "# 기존 데이터셋 하나씩 가져오기\n",
    "\n",
    "import os\n",
    "import pandas as pd\n",
    "\n",
    "# 경로\n",
    "pre_data_path = \"/workspace/home/uglee/Projects/title_extraction/datasets/pre_datasets\"\n",
    "\n",
    "integrated_data_path = \"/workspace/home/uglee/Projects/title_extraction/datasets/integrated_pre_datasets\"\n",
    "\n",
    "#lines = []\n",
    "\n",
    "integrated_data_file_path = os.path.join(integrated_data_path, \"integrated_data.tsv\")\n",
    "w = open(integrated_data_file_path, 'w')\n",
    "\n",
    "for idx, file_name in enumerate(os.listdir(pre_data_path)):\n",
    "    file_path = os.path.join(pre_data_path, file_name)\n",
    "\n",
    "    with open(file_path) as f:\n",
    "        line = f.readline()\n",
    "\n",
    "        line = line + '\\n'\n",
    "\n",
    "        w.write(line)\n",
    "\n",
    "w.close()"
   ]
  },
  {
   "cell_type": "code",
   "execution_count": 2,
   "metadata": {},
   "outputs": [
    {
     "data": {
      "text/html": [
       "<div>\n",
       "<style scoped>\n",
       "    .dataframe tbody tr th:only-of-type {\n",
       "        vertical-align: middle;\n",
       "    }\n",
       "\n",
       "    .dataframe tbody tr th {\n",
       "        vertical-align: top;\n",
       "    }\n",
       "\n",
       "    .dataframe thead th {\n",
       "        text-align: right;\n",
       "    }\n",
       "</style>\n",
       "<table border=\"1\" class=\"dataframe\">\n",
       "  <thead>\n",
       "    <tr style=\"text-align: right;\">\n",
       "      <th></th>\n",
       "      <th>나의 위인전</th>\n",
       "      <th>문무왕은 태종 무열왕의 아들로 진덕여왕 시절에 당나라 사신으로 파견된적이 있으며 전쟁에도 참여한적이 있다. #@문장구분#이후 661년에 아버지 무열왕이 승하 직후 왕위에올랐으며 아버지가 잘 닦아놓은 기반을 활용하여 고구려와 백제 정벌에 집중했다#@문장구분#. 이후 662년에는 백제를 멸망시키고 이후 고구려를 상대하려고 하는데 고구려의 저항이 거세어서 오히려 피해를 입기호 했다 이후 당나라와 연합하여 평양성을 함락시켰다. #@문장구분#이때 고구려를 멸망시킬 때 거의 힘을쓰지 않았는데 당나라와의 연합은 고구려 멸망 이후에 깨질 것을 미리 알았기 때문에 힘을 아낀것이라고 보고 있다.#@문장구분# 이후 당나라와 영토분쟁이후 전쟁이 벌어지게되고 미리 대비를 하고있던 문무왕은 기존 고구려계 주민까지 받아들여 당나라와의 전쟁준비를 마치게된다.#@문장구분# 고구려 부흥군까지 얻은 문무왕은요동을 선제공격하면서 전면전을 벌이고 확실한 마무리가 되지 않고 기벌포 해전을 끝으로 서로 철군하게된다.#@문장구분# 이후 삼국통일을 이루고 내정에 힘쓰게된다.#@문장구분# 전쟁이후 혼란한 내부상황을 적극적인 자세로 감찰관까지 파견하여 자세히 알아보고 민심을 수습하게된다.#@문장구분# 이렇게 백성들까지 잘 돌보던 와중에 통일 5년뒤인 681년에 승하하게된다.#@문장구분# 문무왕은 당시 초 강대국이였던 당나라를 화전양면전술로 성공적인 결과를 얻어냈다는데에 좋은 평가를 받고 있다.#@문장구분# 나도 문무왕처럼 불리한 상황에서도 좋은 결과를 얻어내는 사람이 되고싶다#@문장구분#</th>\n",
       "    </tr>\n",
       "  </thead>\n",
       "  <tbody>\n",
       "    <tr>\n",
       "      <th>0</th>\n",
       "      <td>소중함을 잃었던 경험</td>\n",
       "      <td>친구와 간만에 보훈병원역 근처를 걸었다.#@문장구분# 늘 그렇듯 목적지가 없었다.#...</td>\n",
       "    </tr>\n",
       "    <tr>\n",
       "      <th>1</th>\n",
       "      <td>독후감 - 북극에서 남극까지</td>\n",
       "      <td>캐나다,핀란드,그린란드,노르웨이,스웨덴의 일부,미국의 알래스카가  북극에 속합니다....</td>\n",
       "    </tr>\n",
       "    <tr>\n",
       "      <th>2</th>\n",
       "      <td>돌아오지 않는 세가지 세상에는  다시는</td>\n",
       "      <td>NaN</td>\n",
       "    </tr>\n",
       "    <tr>\n",
       "      <th>3</th>\n",
       "      <td>나에게 봄은</td>\n",
       "      <td>나는나는 봄이되면 친구들  손 잡고 놀러가고 싶어요.봄바람 맞으며 친구들 손잡고 가...</td>\n",
       "    </tr>\n",
       "    <tr>\n",
       "      <th>4</th>\n",
       "      <td>● 살아갈수록 힘들어지는 것 ●사탕 하나라도 나눠 먹던 친구가 이제 시집을 간다는데...</td>\n",
       "      <td>NaN</td>\n",
       "    </tr>\n",
       "  </tbody>\n",
       "</table>\n",
       "</div>"
      ],
      "text/plain": [
       "                                              나의 위인전  \\\n",
       "0                                        소중함을 잃었던 경험   \n",
       "1                                    독후감 - 북극에서 남극까지   \n",
       "2                              돌아오지 않는 세가지 세상에는  다시는   \n",
       "3                                             나에게 봄은   \n",
       "4  ● 살아갈수록 힘들어지는 것 ●사탕 하나라도 나눠 먹던 친구가 이제 시집을 간다는데...   \n",
       "\n",
       "  문무왕은 태종 무열왕의 아들로 진덕여왕 시절에 당나라 사신으로 파견된적이 있으며 전쟁에도 참여한적이 있다. #@문장구분#이후 661년에 아버지 무열왕이 승하 직후 왕위에올랐으며 아버지가 잘 닦아놓은 기반을 활용하여 고구려와 백제 정벌에 집중했다#@문장구분#. 이후 662년에는 백제를 멸망시키고 이후 고구려를 상대하려고 하는데 고구려의 저항이 거세어서 오히려 피해를 입기호 했다 이후 당나라와 연합하여 평양성을 함락시켰다. #@문장구분#이때 고구려를 멸망시킬 때 거의 힘을쓰지 않았는데 당나라와의 연합은 고구려 멸망 이후에 깨질 것을 미리 알았기 때문에 힘을 아낀것이라고 보고 있다.#@문장구분# 이후 당나라와 영토분쟁이후 전쟁이 벌어지게되고 미리 대비를 하고있던 문무왕은 기존 고구려계 주민까지 받아들여 당나라와의 전쟁준비를 마치게된다.#@문장구분# 고구려 부흥군까지 얻은 문무왕은요동을 선제공격하면서 전면전을 벌이고 확실한 마무리가 되지 않고 기벌포 해전을 끝으로 서로 철군하게된다.#@문장구분# 이후 삼국통일을 이루고 내정에 힘쓰게된다.#@문장구분# 전쟁이후 혼란한 내부상황을 적극적인 자세로 감찰관까지 파견하여 자세히 알아보고 민심을 수습하게된다.#@문장구분# 이렇게 백성들까지 잘 돌보던 와중에 통일 5년뒤인 681년에 승하하게된다.#@문장구분# 문무왕은 당시 초 강대국이였던 당나라를 화전양면전술로 성공적인 결과를 얻어냈다는데에 좋은 평가를 받고 있다.#@문장구분# 나도 문무왕처럼 불리한 상황에서도 좋은 결과를 얻어내는 사람이 되고싶다#@문장구분#  \n",
       "0  친구와 간만에 보훈병원역 근처를 걸었다.#@문장구분# 늘 그렇듯 목적지가 없었다.#...                                                                                                                                                                                                                                                                                                                                                                                                                                                                                                                                                                                                                                                                                                                                         \n",
       "1  캐나다,핀란드,그린란드,노르웨이,스웨덴의 일부,미국의 알래스카가  북극에 속합니다....                                                                                                                                                                                                                                                                                                                                                                                                                                                                                                                                                                                                                                                                                                                                         \n",
       "2                                                NaN                                                                                                                                                                                                                                                                                                                                                                                                                                                                                                                                                                                                                                                                                                                                         \n",
       "3  나는나는 봄이되면 친구들  손 잡고 놀러가고 싶어요.봄바람 맞으며 친구들 손잡고 가...                                                                                                                                                                                                                                                                                                                                                                                                                                                                                                                                                                                                                                                                                                                                         \n",
       "4                                                NaN                                                                                                                                                                                                                                                                                                                                                                                                                                                                                                                                                                                                                                                                                                                                         "
      ]
     },
     "execution_count": 2,
     "metadata": {},
     "output_type": "execute_result"
    }
   ],
   "source": [
    "# integrated_data를 가져와서 train_data / valid_data / test_data로 나누기\n",
    "\n",
    "import pandas as pd\n",
    "\n",
    "integrated_data_path = \"/workspace/home/uglee/Projects/title_extraction/datasets/integrated_pre_datasets\"\n",
    "\n",
    "df = pd.read_csv(os.path.join(integrated_data_path, \"integrated_data.tsv\"), sep='\\t', encoding='utf-8')\n",
    "\n",
    "df = df.sample(frac=1).reset_index(drop=True) \n",
    "\n",
    "df.head()"
   ]
  },
  {
   "cell_type": "code",
   "execution_count": 3,
   "metadata": {},
   "outputs": [],
   "source": [
    "df.columns = ['title', 'content']"
   ]
  },
  {
   "cell_type": "code",
   "execution_count": 4,
   "metadata": {},
   "outputs": [
    {
     "data": {
      "text/html": [
       "<div>\n",
       "<style scoped>\n",
       "    .dataframe tbody tr th:only-of-type {\n",
       "        vertical-align: middle;\n",
       "    }\n",
       "\n",
       "    .dataframe tbody tr th {\n",
       "        vertical-align: top;\n",
       "    }\n",
       "\n",
       "    .dataframe thead th {\n",
       "        text-align: right;\n",
       "    }\n",
       "</style>\n",
       "<table border=\"1\" class=\"dataframe\">\n",
       "  <thead>\n",
       "    <tr style=\"text-align: right;\">\n",
       "      <th></th>\n",
       "      <th>title</th>\n",
       "      <th>content</th>\n",
       "    </tr>\n",
       "  </thead>\n",
       "  <tbody>\n",
       "    <tr>\n",
       "      <th>0</th>\n",
       "      <td>소중함을 잃었던 경험</td>\n",
       "      <td>친구와 간만에 보훈병원역 근처를 걸었다.#@문장구분# 늘 그렇듯 목적지가 없었다.#...</td>\n",
       "    </tr>\n",
       "    <tr>\n",
       "      <th>1</th>\n",
       "      <td>독후감 - 북극에서 남극까지</td>\n",
       "      <td>캐나다,핀란드,그린란드,노르웨이,스웨덴의 일부,미국의 알래스카가  북극에 속합니다....</td>\n",
       "    </tr>\n",
       "    <tr>\n",
       "      <th>2</th>\n",
       "      <td>돌아오지 않는 세가지 세상에는  다시는</td>\n",
       "      <td>NaN</td>\n",
       "    </tr>\n",
       "    <tr>\n",
       "      <th>3</th>\n",
       "      <td>나에게 봄은</td>\n",
       "      <td>나는나는 봄이되면 친구들  손 잡고 놀러가고 싶어요.봄바람 맞으며 친구들 손잡고 가...</td>\n",
       "    </tr>\n",
       "    <tr>\n",
       "      <th>4</th>\n",
       "      <td>● 살아갈수록 힘들어지는 것 ●사탕 하나라도 나눠 먹던 친구가 이제 시집을 간다는데...</td>\n",
       "      <td>NaN</td>\n",
       "    </tr>\n",
       "  </tbody>\n",
       "</table>\n",
       "</div>"
      ],
      "text/plain": [
       "                                               title  \\\n",
       "0                                        소중함을 잃었던 경험   \n",
       "1                                    독후감 - 북극에서 남극까지   \n",
       "2                              돌아오지 않는 세가지 세상에는  다시는   \n",
       "3                                             나에게 봄은   \n",
       "4  ● 살아갈수록 힘들어지는 것 ●사탕 하나라도 나눠 먹던 친구가 이제 시집을 간다는데...   \n",
       "\n",
       "                                             content  \n",
       "0  친구와 간만에 보훈병원역 근처를 걸었다.#@문장구분# 늘 그렇듯 목적지가 없었다.#...  \n",
       "1  캐나다,핀란드,그린란드,노르웨이,스웨덴의 일부,미국의 알래스카가  북극에 속합니다....  \n",
       "2                                                NaN  \n",
       "3  나는나는 봄이되면 친구들  손 잡고 놀러가고 싶어요.봄바람 맞으며 친구들 손잡고 가...  \n",
       "4                                                NaN  "
      ]
     },
     "execution_count": 4,
     "metadata": {},
     "output_type": "execute_result"
    }
   ],
   "source": [
    "df.head()"
   ]
  },
  {
   "cell_type": "code",
   "execution_count": 5,
   "metadata": {},
   "outputs": [],
   "source": [
    "df['title'] = df[\"title\"].str.replace(pat=r'[^\\w]', repl=r' ', regex=True)\n",
    "df['content'] = df[\"content\"].str.replace(pat=r'[^\\w]', repl=r' ', regex=True)"
   ]
  },
  {
   "cell_type": "code",
   "execution_count": 6,
   "metadata": {},
   "outputs": [
    {
     "data": {
      "text/html": [
       "<div>\n",
       "<style scoped>\n",
       "    .dataframe tbody tr th:only-of-type {\n",
       "        vertical-align: middle;\n",
       "    }\n",
       "\n",
       "    .dataframe tbody tr th {\n",
       "        vertical-align: top;\n",
       "    }\n",
       "\n",
       "    .dataframe thead th {\n",
       "        text-align: right;\n",
       "    }\n",
       "</style>\n",
       "<table border=\"1\" class=\"dataframe\">\n",
       "  <thead>\n",
       "    <tr style=\"text-align: right;\">\n",
       "      <th></th>\n",
       "      <th>title</th>\n",
       "      <th>content</th>\n",
       "    </tr>\n",
       "  </thead>\n",
       "  <tbody>\n",
       "    <tr>\n",
       "      <th>0</th>\n",
       "      <td>소중함을 잃었던 경험</td>\n",
       "      <td>친구와 간만에 보훈병원역 근처를 걸었다   문장구분  늘 그렇듯 목적지가 없었다  ...</td>\n",
       "    </tr>\n",
       "    <tr>\n",
       "      <th>1</th>\n",
       "      <td>독후감   북극에서 남극까지</td>\n",
       "      <td>캐나다 핀란드 그린란드 노르웨이 스웨덴의 일부 미국의 알래스카가  북극에 속합니다 ...</td>\n",
       "    </tr>\n",
       "    <tr>\n",
       "      <th>2</th>\n",
       "      <td>돌아오지 않는 세가지 세상에는  다시는</td>\n",
       "      <td>NaN</td>\n",
       "    </tr>\n",
       "    <tr>\n",
       "      <th>3</th>\n",
       "      <td>나에게 봄은</td>\n",
       "      <td>나는나는 봄이되면 친구들  손 잡고 놀러가고 싶어요 봄바람 맞으며 친구들 손잡고 가...</td>\n",
       "    </tr>\n",
       "    <tr>\n",
       "      <th>4</th>\n",
       "      <td>살아갈수록 힘들어지는 것  사탕 하나라도 나눠 먹던 친구가 이제 시집을 간다는데...</td>\n",
       "      <td>NaN</td>\n",
       "    </tr>\n",
       "  </tbody>\n",
       "</table>\n",
       "</div>"
      ],
      "text/plain": [
       "                                               title  \\\n",
       "0                                        소중함을 잃었던 경험   \n",
       "1                                    독후감   북극에서 남극까지   \n",
       "2                              돌아오지 않는 세가지 세상에는  다시는   \n",
       "3                                             나에게 봄은   \n",
       "4    살아갈수록 힘들어지는 것  사탕 하나라도 나눠 먹던 친구가 이제 시집을 간다는데...   \n",
       "\n",
       "                                             content  \n",
       "0  친구와 간만에 보훈병원역 근처를 걸었다   문장구분  늘 그렇듯 목적지가 없었다  ...  \n",
       "1  캐나다 핀란드 그린란드 노르웨이 스웨덴의 일부 미국의 알래스카가  북극에 속합니다 ...  \n",
       "2                                                NaN  \n",
       "3  나는나는 봄이되면 친구들  손 잡고 놀러가고 싶어요 봄바람 맞으며 친구들 손잡고 가...  \n",
       "4                                                NaN  "
      ]
     },
     "execution_count": 6,
     "metadata": {},
     "output_type": "execute_result"
    }
   ],
   "source": [
    "df.head(5)"
   ]
  },
  {
   "cell_type": "code",
   "execution_count": 7,
   "metadata": {},
   "outputs": [],
   "source": [
    "train_ratio = .7\n",
    "valid_ratio = .1\n",
    "test_ratio = .2\n",
    "\n",
    "train_data_num = int(df.shape[0] * train_ratio)\n",
    "valid_ratio_num = int(df.shape[0] * valid_ratio)\n",
    "test_ratio_num = int(df.shape[0] * test_ratio)\n"
   ]
  },
  {
   "cell_type": "code",
   "execution_count": 8,
   "metadata": {},
   "outputs": [],
   "source": [
    "train_df = df.iloc[:train_data_num, :]\n",
    "valid_df = df.iloc[train_data_num:train_data_num+valid_ratio_num, :]\n",
    "test_df = df.iloc[train_data_num+valid_ratio_num:, :]"
   ]
  },
  {
   "cell_type": "code",
   "execution_count": 9,
   "metadata": {},
   "outputs": [
    {
     "data": {
      "text/html": [
       "<div>\n",
       "<style scoped>\n",
       "    .dataframe tbody tr th:only-of-type {\n",
       "        vertical-align: middle;\n",
       "    }\n",
       "\n",
       "    .dataframe tbody tr th {\n",
       "        vertical-align: top;\n",
       "    }\n",
       "\n",
       "    .dataframe thead th {\n",
       "        text-align: right;\n",
       "    }\n",
       "</style>\n",
       "<table border=\"1\" class=\"dataframe\">\n",
       "  <thead>\n",
       "    <tr style=\"text-align: right;\">\n",
       "      <th></th>\n",
       "      <th>title</th>\n",
       "      <th>content</th>\n",
       "    </tr>\n",
       "  </thead>\n",
       "  <tbody>\n",
       "    <tr>\n",
       "      <th>0</th>\n",
       "      <td>소중함을 잃었던 경험</td>\n",
       "      <td>친구와 간만에 보훈병원역 근처를 걸었다   문장구분  늘 그렇듯 목적지가 없었다  ...</td>\n",
       "    </tr>\n",
       "  </tbody>\n",
       "</table>\n",
       "</div>"
      ],
      "text/plain": [
       "         title                                            content\n",
       "0  소중함을 잃었던 경험  친구와 간만에 보훈병원역 근처를 걸었다   문장구분  늘 그렇듯 목적지가 없었다  ..."
      ]
     },
     "execution_count": 9,
     "metadata": {},
     "output_type": "execute_result"
    }
   ],
   "source": [
    "train_df.head(1)"
   ]
  },
  {
   "cell_type": "code",
   "execution_count": 10,
   "metadata": {},
   "outputs": [
    {
     "data": {
      "text/plain": [
       "(16669, 2)"
      ]
     },
     "execution_count": 10,
     "metadata": {},
     "output_type": "execute_result"
    }
   ],
   "source": [
    "train_df.shape"
   ]
  },
  {
   "cell_type": "code",
   "execution_count": 11,
   "metadata": {},
   "outputs": [
    {
     "data": {
      "text/plain": [
       "(2381, 2)"
      ]
     },
     "execution_count": 11,
     "metadata": {},
     "output_type": "execute_result"
    }
   ],
   "source": [
    "valid_df.shape"
   ]
  },
  {
   "cell_type": "code",
   "execution_count": 12,
   "metadata": {},
   "outputs": [
    {
     "data": {
      "text/plain": [
       "(4764, 2)"
      ]
     },
     "execution_count": 12,
     "metadata": {},
     "output_type": "execute_result"
    }
   ],
   "source": [
    "test_df.shape"
   ]
  },
  {
   "cell_type": "code",
   "execution_count": 13,
   "metadata": {},
   "outputs": [],
   "source": [
    "train_df = train_df.dropna()\n",
    "valid_df = valid_df.dropna()\n",
    "test_df = test_df.dropna()"
   ]
  },
  {
   "cell_type": "code",
   "execution_count": 14,
   "metadata": {},
   "outputs": [],
   "source": [
    "integrated_data_path = \"/workspace/home/uglee/Projects/title_extraction/datasets/integrated_pre_datasets\"\n",
    "\n",
    "train_df.to_csv(\n",
    "    os.path.join(integrated_data_path, \"train_data.tsv\"), \n",
    "    sep= '\\t',\n",
    "    header=False,\n",
    "    index=False,\n",
    "    encoding='utf-8'\n",
    "    )\n",
    "    "
   ]
  },
  {
   "cell_type": "code",
   "execution_count": 15,
   "metadata": {},
   "outputs": [],
   "source": [
    "valid_df.to_csv(\n",
    "    os.path.join(integrated_data_path, \"valid_data.tsv\"), \n",
    "    sep= '\\t',\n",
    "    header=False,\n",
    "    index=False,\n",
    "    encoding='utf-8'\n",
    "    )"
   ]
  },
  {
   "cell_type": "code",
   "execution_count": 16,
   "metadata": {},
   "outputs": [],
   "source": [
    "test_df.to_csv(\n",
    "    os.path.join(integrated_data_path, \"test_data.tsv\"), \n",
    "    sep= '\\t',\n",
    "    header=False,\n",
    "    index=False,\n",
    "    encoding='utf-8'\n",
    "    )"
   ]
  },
  {
   "cell_type": "code",
   "execution_count": null,
   "metadata": {},
   "outputs": [],
   "source": []
  }
 ],
 "metadata": {
  "kernelspec": {
   "display_name": "Python 3",
   "language": "python",
   "name": "python3"
  },
  "language_info": {
   "codemirror_mode": {
    "name": "ipython",
    "version": 3
   },
   "file_extension": ".py",
   "mimetype": "text/x-python",
   "name": "python",
   "nbconvert_exporter": "python",
   "pygments_lexer": "ipython3",
   "version": "3.8.10"
  },
  "orig_nbformat": 4,
  "vscode": {
   "interpreter": {
    "hash": "31f2aee4e71d21fbe5cf8b01ff0e069b9275f58929596ceb00d14d90e3e16cd6"
   }
  }
 },
 "nbformat": 4,
 "nbformat_minor": 2
}

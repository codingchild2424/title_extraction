{
 "cells": [
  {
   "cell_type": "code",
   "execution_count": 58,
   "metadata": {},
   "outputs": [],
   "source": [
    "# train, valid, test\n",
    "\n",
    "# 기존 데이터셋 하나씩 가져오기\n",
    "\n",
    "import os\n",
    "import pandas as pd\n",
    "\n",
    "# 경로\n",
    "pre_data_path = \"/workspace/home/uglee/Projects/title_extraction/datasets/pre_datasets\"\n",
    "\n",
    "integrated_data_path = \"/workspace/home/uglee/Projects/title_extraction/datasets/integrated_pre_datasets\"\n",
    "\n",
    "#lines = []\n",
    "\n",
    "integrated_data_file_path = os.path.join(integrated_data_path, \"integrated_data.tsv\")\n",
    "w = open(integrated_data_file_path, 'w')\n",
    "\n",
    "for idx, file_name in enumerate(os.listdir(pre_data_path)):\n",
    "    file_path = os.path.join(pre_data_path, file_name)\n",
    "\n",
    "    with open(file_path) as f:\n",
    "        line = f.readline()\n",
    "\n",
    "        line = line + '\\n'\n",
    "\n",
    "        w.write(line)\n",
    "\n",
    "w.close()"
   ]
  },
  {
   "cell_type": "code",
   "execution_count": 59,
   "metadata": {},
   "outputs": [
    {
     "data": {
      "text/html": [
       "<div>\n",
       "<style scoped>\n",
       "    .dataframe tbody tr th:only-of-type {\n",
       "        vertical-align: middle;\n",
       "    }\n",
       "\n",
       "    .dataframe tbody tr th {\n",
       "        vertical-align: top;\n",
       "    }\n",
       "\n",
       "    .dataframe thead th {\n",
       "        text-align: right;\n",
       "    }\n",
       "</style>\n",
       "<table border=\"1\" class=\"dataframe\">\n",
       "  <thead>\n",
       "    <tr style=\"text-align: right;\">\n",
       "      <th></th>\n",
       "      <th>나의 위인전</th>\n",
       "      <th>문무왕은 태종 무열왕의 아들로 진덕여왕 시절에 당나라 사신으로 파견된적이 있으며 전쟁에도 참여한적이 있다. #@문장구분#이후 661년에 아버지 무열왕이 승하 직후 왕위에올랐으며 아버지가 잘 닦아놓은 기반을 활용하여 고구려와 백제 정벌에 집중했다#@문장구분#. 이후 662년에는 백제를 멸망시키고 이후 고구려를 상대하려고 하는데 고구려의 저항이 거세어서 오히려 피해를 입기호 했다 이후 당나라와 연합하여 평양성을 함락시켰다. #@문장구분#이때 고구려를 멸망시킬 때 거의 힘을쓰지 않았는데 당나라와의 연합은 고구려 멸망 이후에 깨질 것을 미리 알았기 때문에 힘을 아낀것이라고 보고 있다.#@문장구분# 이후 당나라와 영토분쟁이후 전쟁이 벌어지게되고 미리 대비를 하고있던 문무왕은 기존 고구려계 주민까지 받아들여 당나라와의 전쟁준비를 마치게된다.#@문장구분# 고구려 부흥군까지 얻은 문무왕은요동을 선제공격하면서 전면전을 벌이고 확실한 마무리가 되지 않고 기벌포 해전을 끝으로 서로 철군하게된다.#@문장구분# 이후 삼국통일을 이루고 내정에 힘쓰게된다.#@문장구분# 전쟁이후 혼란한 내부상황을 적극적인 자세로 감찰관까지 파견하여 자세히 알아보고 민심을 수습하게된다.#@문장구분# 이렇게 백성들까지 잘 돌보던 와중에 통일 5년뒤인 681년에 승하하게된다.#@문장구분# 문무왕은 당시 초 강대국이였던 당나라를 화전양면전술로 성공적인 결과를 얻어냈다는데에 좋은 평가를 받고 있다.#@문장구분# 나도 문무왕처럼 불리한 상황에서도 좋은 결과를 얻어내는 사람이 되고싶다#@문장구분#</th>\n",
       "    </tr>\n",
       "  </thead>\n",
       "  <tbody>\n",
       "    <tr>\n",
       "      <th>0</th>\n",
       "      <td>자신의 삶에 만족을 느낀다는 것은참으로 행복한 일입니다.즐거운 마음으로 이웃을 만날...</td>\n",
       "      <td>NaN</td>\n",
       "    </tr>\n",
       "    <tr>\n",
       "      <th>1</th>\n",
       "      <td>바다 생물 이야기 짓기</td>\n",
       "      <td>나는 고래가 될것이다 바다에서 1주일 동안 바다에서 생활을 하려면 무리를 지어서 다...</td>\n",
       "    </tr>\n",
       "    <tr>\n",
       "      <th>2</th>\n",
       "      <td>»ç¶÷µéÀº Â¦»ç¶ûÀÌ ¾ÈÀüÇÏ´Ù°í ¸»ÇÏÁö¸¸..³­ ¾Æ´Ï...</td>\n",
       "      <td>NaN</td>\n",
       "    </tr>\n",
       "    <tr>\n",
       "      <th>3</th>\n",
       "      <td>우주에 대한 나의 생각</td>\n",
       "      <td>우주는 우리 인류를 만드는 첫걸음이다.#@문장구분# 이를 바탕으로 과학기술이 발전 ...</td>\n",
       "    </tr>\n",
       "    <tr>\n",
       "      <th>4</th>\n",
       "      <td>장미 공원</td>\n",
       "      <td>가족들과 삼척에있는 장미 공원에 갔다. 장미  공원에서 여러가지 장미꽃을보았다. 장...</td>\n",
       "    </tr>\n",
       "  </tbody>\n",
       "</table>\n",
       "</div>"
      ],
      "text/plain": [
       "                                              나의 위인전  \\\n",
       "0  자신의 삶에 만족을 느낀다는 것은참으로 행복한 일입니다.즐거운 마음으로 이웃을 만날...   \n",
       "1                                       바다 생물 이야기 짓기   \n",
       "2  »ç¶÷µéÀº Â¦»ç¶ûÀÌ ¾ÈÀüÇÏ´Ù°í ¸»ÇÏÁö¸¸..³­ ¾Æ´Ï...   \n",
       "3                                       우주에 대한 나의 생각   \n",
       "4                                              장미 공원   \n",
       "\n",
       "  문무왕은 태종 무열왕의 아들로 진덕여왕 시절에 당나라 사신으로 파견된적이 있으며 전쟁에도 참여한적이 있다. #@문장구분#이후 661년에 아버지 무열왕이 승하 직후 왕위에올랐으며 아버지가 잘 닦아놓은 기반을 활용하여 고구려와 백제 정벌에 집중했다#@문장구분#. 이후 662년에는 백제를 멸망시키고 이후 고구려를 상대하려고 하는데 고구려의 저항이 거세어서 오히려 피해를 입기호 했다 이후 당나라와 연합하여 평양성을 함락시켰다. #@문장구분#이때 고구려를 멸망시킬 때 거의 힘을쓰지 않았는데 당나라와의 연합은 고구려 멸망 이후에 깨질 것을 미리 알았기 때문에 힘을 아낀것이라고 보고 있다.#@문장구분# 이후 당나라와 영토분쟁이후 전쟁이 벌어지게되고 미리 대비를 하고있던 문무왕은 기존 고구려계 주민까지 받아들여 당나라와의 전쟁준비를 마치게된다.#@문장구분# 고구려 부흥군까지 얻은 문무왕은요동을 선제공격하면서 전면전을 벌이고 확실한 마무리가 되지 않고 기벌포 해전을 끝으로 서로 철군하게된다.#@문장구분# 이후 삼국통일을 이루고 내정에 힘쓰게된다.#@문장구분# 전쟁이후 혼란한 내부상황을 적극적인 자세로 감찰관까지 파견하여 자세히 알아보고 민심을 수습하게된다.#@문장구분# 이렇게 백성들까지 잘 돌보던 와중에 통일 5년뒤인 681년에 승하하게된다.#@문장구분# 문무왕은 당시 초 강대국이였던 당나라를 화전양면전술로 성공적인 결과를 얻어냈다는데에 좋은 평가를 받고 있다.#@문장구분# 나도 문무왕처럼 불리한 상황에서도 좋은 결과를 얻어내는 사람이 되고싶다#@문장구분#  \n",
       "0                                                NaN                                                                                                                                                                                                                                                                                                                                                                                                                                                                                                                                                                                                                                                                                                                                         \n",
       "1  나는 고래가 될것이다 바다에서 1주일 동안 바다에서 생활을 하려면 무리를 지어서 다...                                                                                                                                                                                                                                                                                                                                                                                                                                                                                                                                                                                                                                                                                                                                         \n",
       "2                                                NaN                                                                                                                                                                                                                                                                                                                                                                                                                                                                                                                                                                                                                                                                                                                                         \n",
       "3  우주는 우리 인류를 만드는 첫걸음이다.#@문장구분# 이를 바탕으로 과학기술이 발전 ...                                                                                                                                                                                                                                                                                                                                                                                                                                                                                                                                                                                                                                                                                                                                         \n",
       "4  가족들과 삼척에있는 장미 공원에 갔다. 장미  공원에서 여러가지 장미꽃을보았다. 장...                                                                                                                                                                                                                                                                                                                                                                                                                                                                                                                                                                                                                                                                                                                                         "
      ]
     },
     "execution_count": 59,
     "metadata": {},
     "output_type": "execute_result"
    }
   ],
   "source": [
    "# integrated_data를 가져와서 train_data / valid_data / test_data로 나누기\n",
    "\n",
    "import pandas as pd\n",
    "\n",
    "integrated_data_path = \"/workspace/home/uglee/Projects/title_extraction/datasets/integrated_pre_datasets\"\n",
    "\n",
    "df = pd.read_csv(os.path.join(integrated_data_path, \"integrated_data.tsv\"), sep='\\t', encoding='utf-8')\n",
    "\n",
    "df = df.sample(frac=1).reset_index(drop=True) \n",
    "\n",
    "df.head()"
   ]
  },
  {
   "cell_type": "code",
   "execution_count": 60,
   "metadata": {},
   "outputs": [],
   "source": [
    "df.columns = ['title', 'content']"
   ]
  },
  {
   "cell_type": "code",
   "execution_count": 65,
   "metadata": {},
   "outputs": [
    {
     "data": {
      "text/html": [
       "<div>\n",
       "<style scoped>\n",
       "    .dataframe tbody tr th:only-of-type {\n",
       "        vertical-align: middle;\n",
       "    }\n",
       "\n",
       "    .dataframe tbody tr th {\n",
       "        vertical-align: top;\n",
       "    }\n",
       "\n",
       "    .dataframe thead th {\n",
       "        text-align: right;\n",
       "    }\n",
       "</style>\n",
       "<table border=\"1\" class=\"dataframe\">\n",
       "  <thead>\n",
       "    <tr style=\"text-align: right;\">\n",
       "      <th></th>\n",
       "      <th>title</th>\n",
       "      <th>content</th>\n",
       "    </tr>\n",
       "  </thead>\n",
       "  <tbody>\n",
       "    <tr>\n",
       "      <th>0</th>\n",
       "      <td>자신의 삶에 만족을 느낀다는 것은참으로 행복한 일입니다 즐거운 마음으로 이웃을 만날...</td>\n",
       "      <td>NaN</td>\n",
       "    </tr>\n",
       "    <tr>\n",
       "      <th>1</th>\n",
       "      <td>바다 생물 이야기 짓기</td>\n",
       "      <td>나는 고래가 될것이다 바다에서 1주일 동안 바다에서 생활을 하려면 무리를 지어서 다...</td>\n",
       "    </tr>\n",
       "    <tr>\n",
       "      <th>2</th>\n",
       "      <td>ç  µéÀº Â  ç ûÀÌ ¾ÈÀüÇÏ Ù í   ÇÏÁö    ³  ¾Æ Ï...</td>\n",
       "      <td>NaN</td>\n",
       "    </tr>\n",
       "    <tr>\n",
       "      <th>3</th>\n",
       "      <td>우주에 대한 나의 생각</td>\n",
       "      <td>우주는 우리 인류를 만드는 첫걸음이다   문장구분  이를 바탕으로 과학기술이 발전 ...</td>\n",
       "    </tr>\n",
       "    <tr>\n",
       "      <th>4</th>\n",
       "      <td>장미 공원</td>\n",
       "      <td>가족들과 삼척에있는 장미 공원에 갔다  장미  공원에서 여러가지 장미꽃을보았다  장...</td>\n",
       "    </tr>\n",
       "  </tbody>\n",
       "</table>\n",
       "</div>"
      ],
      "text/plain": [
       "                                               title  \\\n",
       "0  자신의 삶에 만족을 느낀다는 것은참으로 행복한 일입니다 즐거운 마음으로 이웃을 만날...   \n",
       "1                                       바다 생물 이야기 짓기   \n",
       "2   ç  µéÀº Â  ç ûÀÌ ¾ÈÀüÇÏ Ù í   ÇÏÁö    ³  ¾Æ Ï...   \n",
       "3                                       우주에 대한 나의 생각   \n",
       "4                                              장미 공원   \n",
       "\n",
       "                                             content  \n",
       "0                                                NaN  \n",
       "1  나는 고래가 될것이다 바다에서 1주일 동안 바다에서 생활을 하려면 무리를 지어서 다...  \n",
       "2                                                NaN  \n",
       "3  우주는 우리 인류를 만드는 첫걸음이다   문장구분  이를 바탕으로 과학기술이 발전 ...  \n",
       "4  가족들과 삼척에있는 장미 공원에 갔다  장미  공원에서 여러가지 장미꽃을보았다  장...  "
      ]
     },
     "execution_count": 65,
     "metadata": {},
     "output_type": "execute_result"
    }
   ],
   "source": [
    "df.head()"
   ]
  },
  {
   "cell_type": "code",
   "execution_count": 66,
   "metadata": {},
   "outputs": [],
   "source": [
    "df['title'] = df[\"title\"].str.replace(pat=r'[^\\w]', repl=r' ', regex=True)\n",
    "df['content'] = df[\"content\"].str.replace(pat=r'[^\\w]', repl=r' ', regex=True)"
   ]
  },
  {
   "cell_type": "code",
   "execution_count": 68,
   "metadata": {},
   "outputs": [
    {
     "data": {
      "text/html": [
       "<div>\n",
       "<style scoped>\n",
       "    .dataframe tbody tr th:only-of-type {\n",
       "        vertical-align: middle;\n",
       "    }\n",
       "\n",
       "    .dataframe tbody tr th {\n",
       "        vertical-align: top;\n",
       "    }\n",
       "\n",
       "    .dataframe thead th {\n",
       "        text-align: right;\n",
       "    }\n",
       "</style>\n",
       "<table border=\"1\" class=\"dataframe\">\n",
       "  <thead>\n",
       "    <tr style=\"text-align: right;\">\n",
       "      <th></th>\n",
       "      <th>title</th>\n",
       "      <th>content</th>\n",
       "    </tr>\n",
       "  </thead>\n",
       "  <tbody>\n",
       "    <tr>\n",
       "      <th>0</th>\n",
       "      <td>자신의 삶에 만족을 느낀다는 것은참으로 행복한 일입니다 즐거운 마음으로 이웃을 만날...</td>\n",
       "      <td>NaN</td>\n",
       "    </tr>\n",
       "    <tr>\n",
       "      <th>1</th>\n",
       "      <td>바다 생물 이야기 짓기</td>\n",
       "      <td>나는 고래가 될것이다 바다에서 1주일 동안 바다에서 생활을 하려면 무리를 지어서 다...</td>\n",
       "    </tr>\n",
       "    <tr>\n",
       "      <th>2</th>\n",
       "      <td>ç  µéÀº Â  ç ûÀÌ ¾ÈÀüÇÏ Ù í   ÇÏÁö    ³  ¾Æ Ï...</td>\n",
       "      <td>NaN</td>\n",
       "    </tr>\n",
       "    <tr>\n",
       "      <th>3</th>\n",
       "      <td>우주에 대한 나의 생각</td>\n",
       "      <td>우주는 우리 인류를 만드는 첫걸음이다   문장구분  이를 바탕으로 과학기술이 발전 ...</td>\n",
       "    </tr>\n",
       "    <tr>\n",
       "      <th>4</th>\n",
       "      <td>장미 공원</td>\n",
       "      <td>가족들과 삼척에있는 장미 공원에 갔다  장미  공원에서 여러가지 장미꽃을보았다  장...</td>\n",
       "    </tr>\n",
       "  </tbody>\n",
       "</table>\n",
       "</div>"
      ],
      "text/plain": [
       "                                               title  \\\n",
       "0  자신의 삶에 만족을 느낀다는 것은참으로 행복한 일입니다 즐거운 마음으로 이웃을 만날...   \n",
       "1                                       바다 생물 이야기 짓기   \n",
       "2   ç  µéÀº Â  ç ûÀÌ ¾ÈÀüÇÏ Ù í   ÇÏÁö    ³  ¾Æ Ï...   \n",
       "3                                       우주에 대한 나의 생각   \n",
       "4                                              장미 공원   \n",
       "\n",
       "                                             content  \n",
       "0                                                NaN  \n",
       "1  나는 고래가 될것이다 바다에서 1주일 동안 바다에서 생활을 하려면 무리를 지어서 다...  \n",
       "2                                                NaN  \n",
       "3  우주는 우리 인류를 만드는 첫걸음이다   문장구분  이를 바탕으로 과학기술이 발전 ...  \n",
       "4  가족들과 삼척에있는 장미 공원에 갔다  장미  공원에서 여러가지 장미꽃을보았다  장...  "
      ]
     },
     "execution_count": 68,
     "metadata": {},
     "output_type": "execute_result"
    }
   ],
   "source": [
    "df.head(5)"
   ]
  },
  {
   "cell_type": "code",
   "execution_count": 69,
   "metadata": {},
   "outputs": [],
   "source": [
    "train_ratio = .7\n",
    "valid_ratio = .1\n",
    "test_ratio = .2\n",
    "\n",
    "train_data_num = int(df.shape[0] * train_ratio)\n",
    "valid_ratio_num = int(df.shape[0] * valid_ratio)\n",
    "test_ratio_num = int(df.shape[0] * test_ratio)\n"
   ]
  },
  {
   "cell_type": "code",
   "execution_count": 70,
   "metadata": {},
   "outputs": [],
   "source": [
    "train_df = df.iloc[:train_data_num, :]\n",
    "valid_df = df.iloc[train_data_num:train_data_num+valid_ratio_num, :]\n",
    "test_df = df.iloc[train_data_num+valid_ratio_num:, :]"
   ]
  },
  {
   "cell_type": "code",
   "execution_count": 71,
   "metadata": {},
   "outputs": [
    {
     "data": {
      "text/html": [
       "<div>\n",
       "<style scoped>\n",
       "    .dataframe tbody tr th:only-of-type {\n",
       "        vertical-align: middle;\n",
       "    }\n",
       "\n",
       "    .dataframe tbody tr th {\n",
       "        vertical-align: top;\n",
       "    }\n",
       "\n",
       "    .dataframe thead th {\n",
       "        text-align: right;\n",
       "    }\n",
       "</style>\n",
       "<table border=\"1\" class=\"dataframe\">\n",
       "  <thead>\n",
       "    <tr style=\"text-align: right;\">\n",
       "      <th></th>\n",
       "      <th>title</th>\n",
       "      <th>content</th>\n",
       "    </tr>\n",
       "  </thead>\n",
       "  <tbody>\n",
       "    <tr>\n",
       "      <th>0</th>\n",
       "      <td>자신의 삶에 만족을 느낀다는 것은참으로 행복한 일입니다 즐거운 마음으로 이웃을 만날...</td>\n",
       "      <td>NaN</td>\n",
       "    </tr>\n",
       "  </tbody>\n",
       "</table>\n",
       "</div>"
      ],
      "text/plain": [
       "                                               title content\n",
       "0  자신의 삶에 만족을 느낀다는 것은참으로 행복한 일입니다 즐거운 마음으로 이웃을 만날...     NaN"
      ]
     },
     "execution_count": 71,
     "metadata": {},
     "output_type": "execute_result"
    }
   ],
   "source": [
    "train_df.head(1)"
   ]
  },
  {
   "cell_type": "code",
   "execution_count": 72,
   "metadata": {},
   "outputs": [
    {
     "data": {
      "text/plain": [
       "(14169, 2)"
      ]
     },
     "execution_count": 72,
     "metadata": {},
     "output_type": "execute_result"
    }
   ],
   "source": [
    "train_df.shape"
   ]
  },
  {
   "cell_type": "code",
   "execution_count": 73,
   "metadata": {},
   "outputs": [
    {
     "data": {
      "text/plain": [
       "(2024, 2)"
      ]
     },
     "execution_count": 73,
     "metadata": {},
     "output_type": "execute_result"
    }
   ],
   "source": [
    "valid_df.shape"
   ]
  },
  {
   "cell_type": "code",
   "execution_count": 74,
   "metadata": {},
   "outputs": [
    {
     "data": {
      "text/plain": [
       "(4049, 2)"
      ]
     },
     "execution_count": 74,
     "metadata": {},
     "output_type": "execute_result"
    }
   ],
   "source": [
    "test_df.shape"
   ]
  },
  {
   "cell_type": "code",
   "execution_count": 75,
   "metadata": {},
   "outputs": [],
   "source": [
    "train_df = train_df.dropna()\n",
    "valid_df = valid_df.dropna()\n",
    "test_df = test_df.dropna()"
   ]
  },
  {
   "cell_type": "code",
   "execution_count": 76,
   "metadata": {},
   "outputs": [],
   "source": [
    "integrated_data_path = \"/workspace/home/uglee/Projects/title_extraction/datasets/integrated_pre_datasets\"\n",
    "\n",
    "train_df.to_csv(\n",
    "    os.path.join(integrated_data_path, \"train_data.tsv\"), \n",
    "    sep= '\\t',\n",
    "    header=False,\n",
    "    index=False,\n",
    "    encoding='utf-8'\n",
    "    )\n",
    "    "
   ]
  },
  {
   "cell_type": "code",
   "execution_count": 77,
   "metadata": {},
   "outputs": [],
   "source": [
    "valid_df.to_csv(\n",
    "    os.path.join(integrated_data_path, \"valid_data.tsv\"), \n",
    "    sep= '\\t',\n",
    "    header=False,\n",
    "    index=False,\n",
    "    encoding='utf-8'\n",
    "    )"
   ]
  },
  {
   "cell_type": "code",
   "execution_count": 78,
   "metadata": {},
   "outputs": [],
   "source": [
    "test_df.to_csv(\n",
    "    os.path.join(integrated_data_path, \"test_data.tsv\"), \n",
    "    sep= '\\t',\n",
    "    header=False,\n",
    "    index=False,\n",
    "    encoding='utf-8'\n",
    "    )"
   ]
  },
  {
   "cell_type": "code",
   "execution_count": null,
   "metadata": {},
   "outputs": [],
   "source": []
  }
 ],
 "metadata": {
  "kernelspec": {
   "display_name": "Python 3",
   "language": "python",
   "name": "python3"
  },
  "language_info": {
   "codemirror_mode": {
    "name": "ipython",
    "version": 3
   },
   "file_extension": ".py",
   "mimetype": "text/x-python",
   "name": "python",
   "nbconvert_exporter": "python",
   "pygments_lexer": "ipython3",
   "version": "3.8.10"
  },
  "orig_nbformat": 4,
  "vscode": {
   "interpreter": {
    "hash": "31f2aee4e71d21fbe5cf8b01ff0e069b9275f58929596ceb00d14d90e3e16cd6"
   }
  }
 },
 "nbformat": 4,
 "nbformat_minor": 2
}

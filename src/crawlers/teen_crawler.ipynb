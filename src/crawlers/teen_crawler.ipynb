{
 "cells": [
  {
   "cell_type": "code",
   "execution_count": 1,
   "metadata": {},
   "outputs": [
    {
     "data": {
      "text/plain": [
       "'https://teen.munjang.or.kr/archives/category/write/life/page/1'"
      ]
     },
     "execution_count": 1,
     "metadata": {},
     "output_type": "execute_result"
    }
   ],
   "source": [
    "\n",
    "\"\"\"\n",
    "문학광장 사이트를 크롤링하기 위해 사용됨\n",
    "https://teen.munjang.or.kr/archives/category/write/life\n",
    "\"\"\"\n",
    "\n",
    "import requests\n",
    "from bs4 import BeautifulSoup\n",
    "import os\n",
    "from urllib.request import urlopen\n",
    "from urllib.request import Request\n",
    "from tqdm import tqdm\n",
    "\n",
    "import pandas as pd\n",
    "\n",
    "\n",
    "# 폴더 생성\n",
    "save_folder_path = \"/workspace/home/uglee/Projects/title_extraction/datasets/raw_datasets/teen\"\n",
    "\n",
    "def createFolder(directory):\n",
    "    try:\n",
    "        if not os.path.exists(directory):\n",
    "            os.makedirs(directory)\n",
    "            print(\"Folder made\")\n",
    "    except OSError:\n",
    "        print(\"Error\")\n",
    "\n",
    "createFolder(save_folder_path)\n",
    "\n",
    "# https://teen.munjang.or.kr/archives/category/write/life/page/2\n",
    "\n",
    "# URL\n",
    "TEEN_URL_LIST = [\n",
    "    'https://teen.munjang.or.kr/archives/category/write/life/page/' + \\\n",
    "    str(i + 1)\n",
    "    for i in range(358)\n",
    "]\n",
    "\n",
    "TEEN_URL_LIST[0]"
   ]
  },
  {
   "cell_type": "code",
   "execution_count": 2,
   "metadata": {},
   "outputs": [
    {
     "name": "stderr",
     "output_type": "stream",
     "text": [
      "100%|██████████| 358/358 [03:56<00:00,  1.51it/s]"
     ]
    },
    {
     "name": "stdout",
     "output_type": "stream",
     "text": [
      "https://teen.munjang.or.kr/archives/136461\n"
     ]
    },
    {
     "name": "stderr",
     "output_type": "stream",
     "text": [
      "\n"
     ]
    }
   ],
   "source": [
    "essay_link_list = []\n",
    "\n",
    "# 번호별 페이지\n",
    "for idx, teen_url in enumerate(tqdm(TEEN_URL_LIST)):\n",
    "\n",
    "    # gangwon_url 은 각 페이지별 url\n",
    "\n",
    "    # page 하나 가져오기\n",
    "    req = Request(teen_url, headers={'User-Agent': 'Mozila/5.0'})\n",
    "    webpage = urlopen(req)\n",
    "    soup = BeautifulSoup(webpage, 'html.parser')\n",
    "\n",
    "    # 한 페이지 내에서만 찾기\n",
    "    for i, tag in enumerate(soup.find_all('a', attrs={'rel': 'bookmark'})):\n",
    "\n",
    "        # 만약 태그 안에 [공지]가 있다면 링크 저장하지 않기\n",
    "        if \"[공지]\" in tag.text:\n",
    "            continue\n",
    "\n",
    "        essay_link = tag.attrs[\"href\"]\n",
    "\n",
    "        essay_link_list.append(essay_link)\n",
    "\n",
    "print(essay_link_list[0])"
   ]
  },
  {
   "cell_type": "code",
   "execution_count": 3,
   "metadata": {},
   "outputs": [
    {
     "name": "stderr",
     "output_type": "stream",
     "text": [
      "100%|██████████| 3572/3572 [32:09<00:00,  1.85it/s]  "
     ]
    },
    {
     "name": "stdout",
     "output_type": "stream",
     "text": [
      "손톱\t  손톱을 깎고 있었다. 나는 손톱깎이에 적절한 힘을 주어 손끝에서 손톱을 떼어내었다. 문득 어릴 때 혼자서 손톱을 깎지 못해 늘 엄마가 대신해주었던 게 생각났다. 그때는 손에 힘을 주는 게 힘들었었고, 손톱 끝부분을 잘라내다 날이 실수로 손끝에 닿았을 때 느껴지는 아릿한 느낌도 정말 싫었다. 완성된 모습도 그렇게 마음에 들지 않았다. 검지랑 중지는 삐뚤빼뚤하고 약지랑 새끼손가락만 이상하게 일자로 잘린 모습에, 나는 혼자서 뭐든 잘 해내고 싶은 어린 마음에도 이건 아니다 싶어 늘 엄마에게 손톱을 깎아달라고 부탁하곤 했다. 어린 내게는 다른 많은 것들 만큼이나 힘들었던 일인데, 엄마는 평소 영양이 부족해서 손발톱이 잘 깨지는 거라고 나를 타박하면서도 남의 손톱을 술술 잘도 깎았다. 동그랗게 예뻤고 살이 찝히는 일도 없었다. 그럴 때마다 신기해서 나는 언제부터 이렇게 손톱을 잘 깎았냐고 질문을 던지곤 했었다. 엄마는 매번 웃으면서,   “나중에 나이먹으면 알아서 다 하게 돼 있어”   뭐 이런 말을 남겼다. ‘엄마도 어릴 땐 이런 거 하는 법을 몰랐었다’, 그런 말과 함께. 사실, 난 그때 그 말 안 믿었었다. ‘그래도 이런 건 연습해야 되는 거 아닌가’, 그런 생각도 하면서. 결국 연습은 안 했지만, 난 지금 손톱을 제법 잘 깎는다. 엄밀히 따지고 보면 잘은 아니고, 그냥 평범하게 깎는다. 두 손가락씩 손톱 모양이 다른 나의 고질적 문제는 여전하지만, 적어도 그게 밉상으로 보이지는 않는다. 나중에 한 스물다섯쯤에 자취를 하는데 손톱을 못 깎아서 깎아달라고 주기적으로 집에 찾아가면 정말 꼴보기 싫겠다는 생각도 했지만, 이제는 그럴 일이 없으리라는 것도 알고 엄마 말이 옳았다는 것도 안다. 세상에는 ‘나이를 먹다가 보면 알아서 잘 하게 되는 일’이 있다. 어쩌면, 세상 모든 일이 그럴지도 모른다.   초등학교 5학년인가 6학년 때, 우리 반에는 굉장히 어른스러운 친구가 있었다. 키도 크고, 하는 짓도 똑부러지던 애였다. 선생님들도 그 친구를 굉장히 예뻐했던 기억이 나는데, 특히 글씨를 잘 써서 내가 부러워했었다. 나? 나는… 그때 야무지다는 말을 안 들었던 건 아니었지만, 내가 얌전하고 믿음직한 ‘애’였다면 그애는 어린 마음에 정말 어른인가 싶을 정도로 모범적이었다. 게다가 그때 내 글씨는 전형적인 잘 쓰려고 노력하는 초등학생 정사각형 글씨였는데, 옆자리 알림장을 보면 어른이 쓴 것만 같은 또박또박 명필(?)이 있으니, 내가 드러내고 감탄했었다. 짝꿍을 오랫동안 해서 그 친구와 나는 꽤 친했다. 그래서 나도 명필이 되려고 노력했었고, 대답은 기억나지 않지만 언젠가 글씨 잘 쓰는 법을 물어보기도 했다. 사실 그때 나는 너무 어린애였어서, ‘내가 더 떨어지는 부분은 오직 글씨밖에 없다’, 그런 착각을 하고 그렇게 글씨에 집착했던 건지도 모른다. 그러다 우리는 다른 중학교에 갔고, 거짓말처럼 나는 ‘글씨 멋지게 쓰기’에 관심을 끊었다. 그렇게 아무런 미련도 없이 살았는데, 중3 때부터 나는 역시 거짓말처럼 반에서 명필로 이름을 날리기 시작했다. 나는 그 부분에 대해 전혀 생각도 못하고 있었는데, 갑자기 주변인들이 내 글씨를 칭찬했던 것이다. 이제 나는 어딜 가든지 “글씨 잘 쓴다”라는 말은 한두 번씩 듣는다. 지금이야 별 생각 없지만, 아마 초등학생 때의 내가 이런 얘기를 듣는다면 믿지 못하면서도 굉장히 기뻐할 것이다.   시를 쓰기 시작하면서, 예전엔 아무 생각 없이 넘기던 기사들이 눈에 들어오곤 했다. 「XX살 문학 영재 OO군」, 뭐 그런 것들. 그럴 때마다 나는 불안해 했다. ‘저 아이들은 저렇게 어린 나이에 저렇게 탁월하게 시작했는데, 내 나이가 된다면 도대체 얼마나 대단해질까?’ 이런 생각도 했고 그럴 때마다 스스로가 너무 부끄러워서 몸부림쳤다. 머릿속으로 멍청하고 바보같다고는 생각했지만 그런 건 통제할 수 있는 종류의 것이 아니었다. 그건 가슴이 시키는 거였다. 정확히는 지금보다 더욱 더 좋은 시를 쓰고 싶었던 나의 마음이 시키는 거였다. 하지만 이 질투는 끝이 없었다. 나랑 비슷한 나이의 친구들을 보면 그들의 재능이 너무 괴롭고 부러웠으며(‘글틴’에 올라온 시들을 보면서 자주 그런 생각을 하곤 했다) 나보다 나이가 많은, 이미 문단에서 성공한 시인들을 보면 나는 저렇게 되지 못하겠지 하고 미리 낙담하곤 했다. 시뿐만이 아니라 내가 자신이 있고 애정을 가졌던 모든 분야에서 나는 그랬다. 예전에는 그랬다. 부끄러운 나날이었다. 그런데, 나는 어느 순간부터 괜찮아졌다. 나보다 어리든, 비슷하든 어린 나이에 자신의 재능을 개화시킨 사람들을 보면 질투하기보다는 순수하게 대단하다고 생각할 수 있게 되었고, 내가 좇는 사람들의 길을 똑같이 밟아가야만 한다고 나를 괴롭히지도 않는다. 나이를 먹다 보니 그렇게 되었다. 시 쓰는 일은 손톱을 깎는 일과 그렇게 다르지 않은 것이었다. 둘 다 살다 보면, 기다리다 보면 자연히 잘하게 되는 일이었다. 초등학생 때 나는 나중에 내가 옆자리 친구처럼 손글씨로 칭찬받게 되리라는 걸 몰랐지만, 결국은 그렇게 되었다. 내가 거기에 전혀 관심조차 없었을 때. 애초에 사람마다 무언가를 잘하게 되는 시기는 다 다를 텐데, 나는 왜 그렇게 ‘지금 당장’, ‘처음부터’, ‘한번에’ 잘하기를 희망했고, 그러지 못하면 영영 그걸 잘하지 못할 거라고 생각했을까? 처음부터 잘하는 사람이 얼마나 있다고. 기다리면, 하다가 보면 나도 모르는 사이에 잘하게 될 걸 말이다. 집착을 털어내자 나는 덜 날카로워졌고, 좀 많이 게을러졌지만, 그래도 훨씬 행복했다. 여전히 노력하지만, ‘언젠가는 이루어질 것’이 오기를 기다릴 줄 안다.   며칠 뒤부터 복싱을 시작할 것 같다. 예전 같았으면 한번에 잘하기를 바랐을 테지만, 이제는 안다. 나는 더럽게 못할 것이다. 원래 체육을 못한다. 그래도 낙담하지는 않을 거고, 잘하려고 언제나 노력할 거다. 그리고는 더 잘하게 될 날을 계속 기다리다가, 결국은 지금 꿈꾸는 그런 사람이 되어 있겠지. 운동 말고 다른 부분에서도 말이다. 그렇지 못하면, 뭐 어때? 될 때까지 기다리면 되는데. 90대 할머니가 돼서야 성공하면 또 어때. 내가 그 긴 세월을 기다려서 결국 해냈다는 게 중요한 거지. 긴 세월이지만 그래도 심심하지는 않을 거다. 그때까지, 내가 또 뭘 잘하게 될까 기대하면서 하루하루를 보낼 테니까.   \n"
     ]
    },
    {
     "name": "stderr",
     "output_type": "stream",
     "text": [
      "\n"
     ]
    }
   ],
   "source": [
    "\n",
    "# title_list = []\n",
    "# content_list = []\n",
    "title_content_list = []\n",
    "\n",
    "# 각 essay 별로 접근\n",
    "for idx, essay_link in enumerate(tqdm(essay_link_list)):\n",
    "\n",
    "    req = Request(essay_link, headers={'User-Agent': 'Mozila/5.0'})\n",
    "    webpage = urlopen(req)\n",
    "    soup = BeautifulSoup(webpage, 'html.parser')\n",
    "\n",
    "    title = soup.find('h1', 'entry-title').text\n",
    "    #title_list.append(title)\n",
    "\n",
    "    content = soup.find('div', 'entry-content').text\n",
    "    #content_list.append(content)\n",
    "\n",
    "     # \\t 전처리\n",
    "    title = title.replace(\"\\t\", \"\")\n",
    "    title = title.replace(\"\\n\", \" \")\n",
    "\n",
    "    content = content.replace(\"\\t\", \"\")\n",
    "    content = content.replace(\"\\n\", \" \")\n",
    "\n",
    "    title_content = title + \"\\t\" + content\n",
    "\n",
    "    title_content_list.append(title_content)\n",
    "\n",
    "print(title_content_list[0])"
   ]
  },
  {
   "cell_type": "code",
   "execution_count": 4,
   "metadata": {},
   "outputs": [
    {
     "name": "stderr",
     "output_type": "stream",
     "text": [
      "100%|██████████| 3572/3572 [00:00<00:00, 13594.78it/s]\n"
     ]
    }
   ],
   "source": [
    "\n",
    "# title과 content 를 \\t으로 합쳐서 tsv로 각각 저장해서 pre_datasets로 넘기기\n",
    "\n",
    "save_pre_folder_path = \"/workspace/home/uglee/Projects/title_extraction/datasets/pre_datasets\"\n",
    "\n",
    "for idx, title_content in enumerate(tqdm(title_content_list)):\n",
    "\n",
    "    tsv_path = os.path.join(save_pre_folder_path, \"teen\" + str(idx) + \".tsv\" )\n",
    "\n",
    "    f = open(tsv_path, 'w', encoding='utf-8')\n",
    "\n",
    "    f.write(title_content)\n",
    "\n",
    "    f.close()"
   ]
  },
  {
   "cell_type": "code",
   "execution_count": null,
   "metadata": {},
   "outputs": [],
   "source": []
  }
 ],
 "metadata": {
  "kernelspec": {
   "display_name": "Python 3",
   "language": "python",
   "name": "python3"
  },
  "language_info": {
   "codemirror_mode": {
    "name": "ipython",
    "version": 3
   },
   "file_extension": ".py",
   "mimetype": "text/x-python",
   "name": "python",
   "nbconvert_exporter": "python",
   "pygments_lexer": "ipython3",
   "version": "3.8.10 (default, Mar 15 2022, 12:22:08) \n[GCC 9.4.0]"
  },
  "orig_nbformat": 4,
  "vscode": {
   "interpreter": {
    "hash": "31f2aee4e71d21fbe5cf8b01ff0e069b9275f58929596ceb00d14d90e3e16cd6"
   }
  }
 },
 "nbformat": 4,
 "nbformat_minor": 2
}

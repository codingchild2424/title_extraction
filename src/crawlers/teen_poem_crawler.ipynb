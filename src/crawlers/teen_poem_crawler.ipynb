{
 "cells": [
  {
   "cell_type": "code",
   "execution_count": 2,
   "metadata": {},
   "outputs": [
    {
     "data": {
      "text/plain": [
       "'https://teen.munjang.or.kr/archives/category/write/poetry/page/1'"
      ]
     },
     "execution_count": 2,
     "metadata": {},
     "output_type": "execute_result"
    }
   ],
   "source": [
    "\n",
    "\"\"\"\n",
    "문학광장 사이트를 크롤링하기 위해 사용됨\n",
    "https://teen.munjang.or.kr/archives/category/write/life\n",
    "\"\"\"\n",
    "\n",
    "import requests\n",
    "from bs4 import BeautifulSoup\n",
    "import os\n",
    "from urllib.request import urlopen\n",
    "from urllib.request import Request\n",
    "from tqdm import tqdm\n",
    "\n",
    "import pandas as pd\n",
    "\n",
    "\n",
    "# 폴더 생성\n",
    "save_folder_path = \"/workspace/home/uglee/Projects/title_extraction/datasets/raw_poem_datasets\"\n",
    "\n",
    "def createFolder(directory):\n",
    "    try:\n",
    "        if not os.path.exists(directory):\n",
    "            os.makedirs(directory)\n",
    "            print(\"Folder made\")\n",
    "    except OSError:\n",
    "        print(\"Error\")\n",
    "\n",
    "createFolder(save_folder_path)\n",
    "\n",
    "# https://teen.munjang.or.kr/archives/category/write/life/page/2\n",
    "\n",
    "# URL\n",
    "TEEN_URL_LIST = [\n",
    "    'https://teen.munjang.or.kr/archives/category/write/poetry/page/' + \\\n",
    "    str(i + 1)\n",
    "    for i in range(2261)\n",
    "]\n",
    "\n",
    "TEEN_URL_LIST[0]"
   ]
  },
  {
   "cell_type": "code",
   "execution_count": 3,
   "metadata": {},
   "outputs": [
    {
     "name": "stderr",
     "output_type": "stream",
     "text": [
      "100%|██████████| 2261/2261 [48:47<00:00,  1.29s/it]"
     ]
    },
    {
     "name": "stdout",
     "output_type": "stream",
     "text": [
      "https://teen.munjang.or.kr/archives/136689\n"
     ]
    },
    {
     "name": "stderr",
     "output_type": "stream",
     "text": [
      "\n"
     ]
    }
   ],
   "source": [
    "poem_link_list = []\n",
    "\n",
    "# 번호별 페이지\n",
    "for idx, teen_url in enumerate(tqdm(TEEN_URL_LIST)):\n",
    "\n",
    "    # gangwon_url 은 각 페이지별 url\n",
    "\n",
    "    # page 하나 가져오기\n",
    "    req = Request(teen_url, headers={'User-Agent': 'Mozila/5.0'})\n",
    "    webpage = urlopen(req)\n",
    "    soup = BeautifulSoup(webpage, 'html.parser')\n",
    "\n",
    "    # 한 페이지 내에서만 찾기\n",
    "    for i, tag in enumerate(soup.find_all('a', attrs={'rel': 'bookmark'})):\n",
    "\n",
    "        # 만약 태그 안에 [공지]가 있다면 링크 저장하지 않기\n",
    "        if \"[공지]\" in tag.text:\n",
    "            continue\n",
    "\n",
    "        poem_link = tag.attrs[\"href\"]\n",
    "\n",
    "        poem_link_list.append(poem_link)\n",
    "\n",
    "print(poem_link_list[0])"
   ]
  },
  {
   "cell_type": "code",
   "execution_count": 4,
   "metadata": {},
   "outputs": [
    {
     "name": "stderr",
     "output_type": "stream",
     "text": [
      "100%|██████████| 22597/22597 [4:27:53<00:00,  1.41it/s]  \n"
     ]
    }
   ],
   "source": [
    "import re\n",
    "\n",
    "pre_folder_path = \"/workspace/home/uglee/Projects/title_extraction/datasets/pre_poem_datasets\"\n",
    "\n",
    "# 각 essay 별로 접근\n",
    "for idx, poem_link in enumerate(tqdm(poem_link_list)):\n",
    "\n",
    "    req = Request(poem_link, headers={'User-Agent': 'Mozila/5.0'})\n",
    "    webpage = urlopen(req)\n",
    "    soup = BeautifulSoup(webpage, 'html.parser')\n",
    "\n",
    "    title = soup.find('h1', 'entry-title').text\n",
    "    #title_list.append(title)\n",
    "\n",
    "    content = soup.find('div', 'entry-content').text\n",
    "    #content_list.append(content)\n",
    "\n",
    "     # \\t 전처리\n",
    "    title = title.replace(\"\\t\", \"\")\n",
    "    title = title.replace(\"\\n\", \" \")\n",
    "    title = re.sub(r'\\([^)]*\\)', '', title)\n",
    "    title = re.sub(r'\\[[^)]*\\]', '', title)\n",
    "    title = re.sub(r'[^\\w\\s]', '', title)\n",
    "\n",
    "    content = content.replace(\"\\t\", \"\")\n",
    "    content = content.replace(\"\\n\", \" \")\n",
    "\n",
    "    title_content = title + \"\\t\" + content\n",
    "\n",
    "    tsv_file_name = \"teen_poem_\" + str(idx) + \".tsv\"\n",
    "\n",
    "    try:\n",
    "        with open(os.path.join(pre_folder_path, tsv_file_name), 'w', encoding='utf-8') as f:\n",
    "            f.write(title_content)\n",
    "    except:\n",
    "        continue\n"
   ]
  },
  {
   "cell_type": "code",
   "execution_count": null,
   "metadata": {},
   "outputs": [],
   "source": []
  }
 ],
 "metadata": {
  "kernelspec": {
   "display_name": "Python 3",
   "language": "python",
   "name": "python3"
  },
  "language_info": {
   "codemirror_mode": {
    "name": "ipython",
    "version": 3
   },
   "file_extension": ".py",
   "mimetype": "text/x-python",
   "name": "python",
   "nbconvert_exporter": "python",
   "pygments_lexer": "ipython3",
   "version": "3.8.10"
  },
  "orig_nbformat": 4,
  "vscode": {
   "interpreter": {
    "hash": "31f2aee4e71d21fbe5cf8b01ff0e069b9275f58929596ceb00d14d90e3e16cd6"
   }
  }
 },
 "nbformat": 4,
 "nbformat_minor": 2
}
